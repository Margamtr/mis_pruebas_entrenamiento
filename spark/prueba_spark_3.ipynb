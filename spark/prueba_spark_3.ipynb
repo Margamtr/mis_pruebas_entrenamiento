{
 "cells": [
  {
   "cell_type": "markdown",
   "metadata": {},
   "source": [
    "Continuamos con las prácticas de Pyspark.\n",
    "A continuación, crearemos un pequeño dataframe para limpiarlo y hacerle tratamiento de datos."
   ]
  },
  {
   "cell_type": "code",
   "execution_count": 1,
   "metadata": {},
   "outputs": [],
   "source": [
    "import findspark"
   ]
  },
  {
   "cell_type": "code",
   "execution_count": 2,
   "metadata": {},
   "outputs": [
    {
     "data": {
      "text/html": [
       "\n",
       "            <div>\n",
       "                <p><b>SparkSession - in-memory</b></p>\n",
       "                \n",
       "        <div>\n",
       "            <p><b>SparkContext</b></p>\n",
       "\n",
       "            <p><a href=\"http://LAPTOP-NPF8U9D3:4040\">Spark UI</a></p>\n",
       "\n",
       "            <dl>\n",
       "              <dt>Version</dt>\n",
       "                <dd><code>v3.5.3</code></dd>\n",
       "              <dt>Master</dt>\n",
       "                <dd><code>local[*]</code></dd>\n",
       "              <dt>AppName</dt>\n",
       "                <dd><code>Spark Profesores</code></dd>\n",
       "            </dl>\n",
       "        </div>\n",
       "        \n",
       "            </div>\n",
       "        "
      ],
      "text/plain": [
       "<pyspark.sql.session.SparkSession at 0x1ea3cd89e70>"
      ]
     },
     "execution_count": 2,
     "metadata": {},
     "output_type": "execute_result"
    }
   ],
   "source": [
    "from pyspark.sql import SparkSession\n",
    "spark=SparkSession.builder.appName(\"Spark Profesores\").getOrCreate()\n",
    "spark"
   ]
  },
  {
   "cell_type": "code",
   "execution_count": 3,
   "metadata": {},
   "outputs": [],
   "source": [
    "from datetime import  datetime, date\n",
    "import pandas as pd\n",
    "from pyspark.sql import Row"
   ]
  },
  {
   "cell_type": "code",
   "execution_count": 5,
   "metadata": {},
   "outputs": [
    {
     "name": "stdout",
     "output_type": "stream",
     "text": [
      "+-----------+-----------+-----+\n",
      "|     Nombre| Asignatura|Horas|\n",
      "+-----------+-----------+-----+\n",
      "|  Ana López|   Historia|   40|\n",
      "|Jorge Gómez|Matemáticas|   85|\n",
      "|Jorge Gómez|   Biología|   35|\n",
      "|  Ana López| Literatura|   45|\n",
      "|Luis García|   Historia|   30|\n",
      "|  Ana López|   Historia|   40|\n",
      "+-----------+-----------+-----+\n",
      "\n"
     ]
    }
   ],
   "source": [
    "profesores=[('Ana López', 'Historia', 40), \\\n",
    "    ('Jorge Gómez', 'Matemáticas', 85), \\\n",
    "    ('Jorge Gómez', 'Biología', 35), \\\n",
    "    ('Ana López', 'Literatura', 45), \\\n",
    "    ('Luis García', 'Historia', 30), \\\n",
    "    ('Ana López', 'Historia', 40) \\\n",
    "]\n",
    "columnas=[\"Nombre\", \"Asignatura\",\"Horas\"]\n",
    "df_profesores=spark.createDataFrame(data=profesores, schema=columnas)\n",
    "df_profesores.show()"
   ]
  },
  {
   "cell_type": "code",
   "execution_count": 6,
   "metadata": {},
   "outputs": [
    {
     "name": "stdout",
     "output_type": "stream",
     "text": [
      "root\n",
      " |-- Nombre: string (nullable = true)\n",
      " |-- Asignatura: string (nullable = true)\n",
      " |-- Horas: long (nullable = true)\n",
      "\n"
     ]
    }
   ],
   "source": [
    "df_profesores.printSchema()"
   ]
  },
  {
   "cell_type": "code",
   "execution_count": 7,
   "metadata": {},
   "outputs": [
    {
     "name": "stdout",
     "output_type": "stream",
     "text": [
      "+-----------+-----------+-----+\n",
      "|     Nombre| Asignatura|Horas|\n",
      "+-----------+-----------+-----+\n",
      "|  Ana López|   Historia|   40|\n",
      "|Jorge Gómez|Matemáticas|   85|\n",
      "|Jorge Gómez|   Biología|   35|\n",
      "|  Ana López| Literatura|   45|\n",
      "|Luis García|   Historia|   30|\n",
      "+-----------+-----------+-----+\n",
      "\n"
     ]
    }
   ],
   "source": [
    "#Eliminamos duplicados\n",
    "df_profesores_distin=df_profesores.distinct()\n",
    "df_profesores_distin.show()\n",
    "#Podemos usar .dropDupluicates()"
   ]
  },
  {
   "cell_type": "code",
   "execution_count": 8,
   "metadata": {},
   "outputs": [],
   "source": [
    "#Eliminamos duplicados en \"Asignatura\"\n",
    "dropDisDf=df_profesores.dropDuplicates([\"Asignatura\"])\n"
   ]
  },
  {
   "cell_type": "code",
   "execution_count": 10,
   "metadata": {},
   "outputs": [
    {
     "name": "stdout",
     "output_type": "stream",
     "text": [
      "+-----------+-----------+-----+\n",
      "|     Nombre| Asignatura|Horas|\n",
      "+-----------+-----------+-----+\n",
      "|Jorge Gómez|   Biología|   35|\n",
      "|  Ana López|   Historia|   40|\n",
      "|  Ana López| Literatura|   45|\n",
      "|Jorge Gómez|Matemáticas|   85|\n",
      "+-----------+-----------+-----+\n",
      "\n"
     ]
    }
   ],
   "source": [
    "dropDisDf.show()\n"
   ]
  },
  {
   "cell_type": "markdown",
   "metadata": {},
   "source": [
    "Parte 2\n",
    "\n",
    "Creamos dos dataframes con PK y FK"
   ]
  },
  {
   "cell_type": "code",
   "execution_count": 12,
   "metadata": {},
   "outputs": [],
   "source": [
    "profesores2=[(1, 'Ana López', 'Física', 30, 3),(2, 'Marta Rodríguez', 'Química', 35,4),(3, 'Marta Rodríguez', 'Biología', 65,1), (4, 'Marta Rodríguez', 'Matemáticas', 45,3),(5, 'Ana López', 'Literatura', 50,2),(6, 'Isabel Sánchez', 'Física', 40,6)]\n",
    "columnas2=[\"Id\",\"Nombre\", \"Asignatura\",\"Horas\", \"Id_cole\"]\n",
    "\n",
    "colegio=[(1, 'Escuela La Esperanza', 'Sevilla'), \\\n",
    "    (2, 'Colegio El Prado', 'Sevilla'), \\\n",
    "    (3, 'Colegio San José', 'Bilbao'), \\\n",
    "    (4, 'Colegio San José', 'Sevilla'), \\\n",
    "    (5, 'Colegio San José', 'Barcelona'), \\\n",
    "    (6, 'Instituto Nacional', 'Barcelona') \\\n",
    "    ]\n",
    "columnas3=[\"Id_cole\", \"Colegio\", \"Ciudad\"]\n",
    "df_profes=spark.createDataFrame(data=profesores2, schema=columnas2)\n",
    "df_coles=spark.createDataFrame(data=colegio,schema=columnas3)"
   ]
  },
  {
   "cell_type": "code",
   "execution_count": 14,
   "metadata": {},
   "outputs": [
    {
     "name": "stdout",
     "output_type": "stream",
     "text": [
      "+---+---------------+-----------+-----+-------+\n",
      "| Id|         Nombre| Asignatura|Horas|Id_cole|\n",
      "+---+---------------+-----------+-----+-------+\n",
      "|  1|      Ana López|     Física|   30|      3|\n",
      "|  2|Marta Rodríguez|    Química|   35|      4|\n",
      "|  3|Marta Rodríguez|   Biología|   65|      1|\n",
      "|  4|Marta Rodríguez|Matemáticas|   45|      3|\n",
      "|  5|      Ana López| Literatura|   50|      2|\n",
      "|  6| Isabel Sánchez|     Física|   40|      6|\n",
      "+---+---------------+-----------+-----+-------+\n",
      "\n"
     ]
    }
   ],
   "source": [
    "df_profes.show()"
   ]
  },
  {
   "cell_type": "code",
   "execution_count": 15,
   "metadata": {},
   "outputs": [
    {
     "name": "stdout",
     "output_type": "stream",
     "text": [
      "+-------+--------------------+---------+\n",
      "|Id_cole|             Colegio|   Ciudad|\n",
      "+-------+--------------------+---------+\n",
      "|      1|Escuela La Esperanza|  Sevilla|\n",
      "|      2|    Colegio El Prado|  Sevilla|\n",
      "|      3|    Colegio San José|   Bilbao|\n",
      "|      4|    Colegio San José|  Sevilla|\n",
      "|      5|    Colegio San José|Barcelona|\n",
      "|      6|  Instituto Nacional|Barcelona|\n",
      "+-------+--------------------+---------+\n",
      "\n"
     ]
    }
   ],
   "source": [
    "df_coles.show()"
   ]
  },
  {
   "cell_type": "code",
   "execution_count": 16,
   "metadata": {},
   "outputs": [
    {
     "name": "stdout",
     "output_type": "stream",
     "text": [
      "+---+---------------+-----------+-----+-------+-------+--------------------+---------+\n",
      "| Id|         Nombre| Asignatura|Horas|Id_cole|Id_cole|             Colegio|   Ciudad|\n",
      "+---+---------------+-----------+-----+-------+-------+--------------------+---------+\n",
      "|  3|Marta Rodríguez|   Biología|   65|      1|      1|Escuela La Esperanza|  Sevilla|\n",
      "|  5|      Ana López| Literatura|   50|      2|      2|    Colegio El Prado|  Sevilla|\n",
      "|  1|      Ana López|     Física|   30|      3|      3|    Colegio San José|   Bilbao|\n",
      "|  4|Marta Rodríguez|Matemáticas|   45|      3|      3|    Colegio San José|   Bilbao|\n",
      "|  2|Marta Rodríguez|    Química|   35|      4|      4|    Colegio San José|  Sevilla|\n",
      "|  6| Isabel Sánchez|     Física|   40|      6|      6|  Instituto Nacional|Barcelona|\n",
      "+---+---------------+-----------+-----+-------+-------+--------------------+---------+\n",
      "\n"
     ]
    }
   ],
   "source": [
    "#RealizAMOS UN INNERJOIN\n",
    "df_profes.join(df_coles, df_profes.Id_cole == df_coles.Id_cole,\"inner\").show()"
   ]
  },
  {
   "cell_type": "code",
   "execution_count": 17,
   "metadata": {},
   "outputs": [
    {
     "name": "stdout",
     "output_type": "stream",
     "text": [
      "+----+---------------+-----------+-----+-------+-------+--------------------+---------+\n",
      "|  Id|         Nombre| Asignatura|Horas|Id_cole|Id_cole|             Colegio|   Ciudad|\n",
      "+----+---------------+-----------+-----+-------+-------+--------------------+---------+\n",
      "|   3|Marta Rodríguez|   Biología|   65|      1|      1|Escuela La Esperanza|  Sevilla|\n",
      "|   5|      Ana López| Literatura|   50|      2|      2|    Colegio El Prado|  Sevilla|\n",
      "|   1|      Ana López|     Física|   30|      3|      3|    Colegio San José|   Bilbao|\n",
      "|   4|Marta Rodríguez|Matemáticas|   45|      3|      3|    Colegio San José|   Bilbao|\n",
      "|   2|Marta Rodríguez|    Química|   35|      4|      4|    Colegio San José|  Sevilla|\n",
      "|NULL|           NULL|       NULL| NULL|   NULL|      5|    Colegio San José|Barcelona|\n",
      "|   6| Isabel Sánchez|     Física|   40|      6|      6|  Instituto Nacional|Barcelona|\n",
      "+----+---------------+-----------+-----+-------+-------+--------------------+---------+\n",
      "\n"
     ]
    }
   ],
   "source": [
    "df_profes.join(df_coles, df_profes.Id_cole == df_coles.Id_cole,\"outer\").show()"
   ]
  },
  {
   "cell_type": "code",
   "execution_count": 18,
   "metadata": {},
   "outputs": [
    {
     "name": "stdout",
     "output_type": "stream",
     "text": [
      "+----+---------------+-----------+-----+-------+-------+--------------------+---------+\n",
      "|  Id|         Nombre| Asignatura|Horas|Id_cole|Id_cole|             Colegio|   Ciudad|\n",
      "+----+---------------+-----------+-----+-------+-------+--------------------+---------+\n",
      "|   3|Marta Rodríguez|   Biología|   65|      1|      1|Escuela La Esperanza|  Sevilla|\n",
      "|   5|      Ana López| Literatura|   50|      2|      2|    Colegio El Prado|  Sevilla|\n",
      "|   1|      Ana López|     Física|   30|      3|      3|    Colegio San José|   Bilbao|\n",
      "|   4|Marta Rodríguez|Matemáticas|   45|      3|      3|    Colegio San José|   Bilbao|\n",
      "|   2|Marta Rodríguez|    Química|   35|      4|      4|    Colegio San José|  Sevilla|\n",
      "|NULL|           NULL|       NULL| NULL|   NULL|      5|    Colegio San José|Barcelona|\n",
      "|   6| Isabel Sánchez|     Física|   40|      6|      6|  Instituto Nacional|Barcelona|\n",
      "+----+---------------+-----------+-----+-------+-------+--------------------+---------+\n",
      "\n"
     ]
    }
   ],
   "source": [
    "df_profes.join(df_coles, df_profes.Id_cole == df_coles.Id_cole,\"fullouter\").show()"
   ]
  },
  {
   "cell_type": "code",
   "execution_count": 20,
   "metadata": {},
   "outputs": [
    {
     "name": "stdout",
     "output_type": "stream",
     "text": [
      "+---+---------------+-----------+-----+-------+-------+--------------------+---------+\n",
      "| Id|         Nombre| Asignatura|Horas|Id_cole|Id_cole|             Colegio|   Ciudad|\n",
      "+---+---------------+-----------+-----+-------+-------+--------------------+---------+\n",
      "|  1|      Ana López|     Física|   30|      3|      3|    Colegio San José|   Bilbao|\n",
      "|  2|Marta Rodríguez|    Química|   35|      4|      4|    Colegio San José|  Sevilla|\n",
      "|  3|Marta Rodríguez|   Biología|   65|      1|      1|Escuela La Esperanza|  Sevilla|\n",
      "|  4|Marta Rodríguez|Matemáticas|   45|      3|      3|    Colegio San José|   Bilbao|\n",
      "|  5|      Ana López| Literatura|   50|      2|      2|    Colegio El Prado|  Sevilla|\n",
      "|  6| Isabel Sánchez|     Física|   40|      6|      6|  Instituto Nacional|Barcelona|\n",
      "+---+---------------+-----------+-----+-------+-------+--------------------+---------+\n",
      "\n"
     ]
    }
   ],
   "source": [
    "df_profes.join(df_coles, df_profes.Id_cole == df_coles.Id_cole,\"left\").show()"
   ]
  },
  {
   "cell_type": "code",
   "execution_count": 24,
   "metadata": {},
   "outputs": [],
   "source": [
    "#funciones definidas por el usuario:\n",
    "from pyspark.sql.functions import udf\n",
    "from pyspark.sql.functions import col\n",
    "def upperCase(str):\n",
    "    \"\"\" PAsamos una string a mayúsculas\"\"\"\n",
    "    return str.upper()"
   ]
  },
  {
   "cell_type": "code",
   "execution_count": 22,
   "metadata": {},
   "outputs": [],
   "source": [
    "upperCaseUDF=udf(lambda x: upperCase(x))"
   ]
  },
  {
   "cell_type": "code",
   "execution_count": 26,
   "metadata": {},
   "outputs": [
    {
     "name": "stdout",
     "output_type": "stream",
     "text": [
      "+---------------+----------------+\n",
      "|         Nombre|<lambda>(Nombre)|\n",
      "+---------------+----------------+\n",
      "|      Ana López|       ANA LÓPEZ|\n",
      "|Marta Rodríguez| MARTA RODRÍGUEZ|\n",
      "|Marta Rodríguez| MARTA RODRÍGUEZ|\n",
      "|Marta Rodríguez| MARTA RODRÍGUEZ|\n",
      "|      Ana López|       ANA LÓPEZ|\n",
      "| Isabel Sánchez|  ISABEL SÁNCHEZ|\n",
      "+---------------+----------------+\n",
      "\n"
     ]
    }
   ],
   "source": [
    "df_profes.select(col(\"Nombre\"), upperCaseUDF(col(\"Nombre\"))).show()"
   ]
  },
  {
   "cell_type": "code",
   "execution_count": 29,
   "metadata": {},
   "outputs": [
    {
     "name": "stdout",
     "output_type": "stream",
     "text": [
      "+---+---------------+-----------+-----+-------+----------------+\n",
      "| Id|         Nombre| Asignatura|Horas|Id_cole|NOMBRE MAYUSCULA|\n",
      "+---+---------------+-----------+-----+-------+----------------+\n",
      "|  1|      Ana López|     Física|   30|      3|       ANA LÓPEZ|\n",
      "|  2|Marta Rodríguez|    Química|   35|      4| MARTA RODRÍGUEZ|\n",
      "|  3|Marta Rodríguez|   Biología|   65|      1| MARTA RODRÍGUEZ|\n",
      "|  4|Marta Rodríguez|Matemáticas|   45|      3| MARTA RODRÍGUEZ|\n",
      "|  5|      Ana López| Literatura|   50|      2|       ANA LÓPEZ|\n",
      "|  6| Isabel Sánchez|     Física|   40|      6|  ISABEL SÁNCHEZ|\n",
      "+---+---------------+-----------+-----+-------+----------------+\n",
      "\n"
     ]
    }
   ],
   "source": [
    "df_profes.withColumn(\"NOMBRE MAYUSCULA\", upperCaseUDF(col(\"Nombre\"))).show()"
   ]
  },
  {
   "cell_type": "markdown",
   "metadata": {},
   "source": [
    "Parte 3\n",
    "\n",
    "Tratamos los nulos"
   ]
  },
  {
   "cell_type": "code",
   "execution_count": 30,
   "metadata": {},
   "outputs": [],
   "source": [
    "profesores4=[(1, 'Ana López', 'Física', None, 3),(2, 'Marta Rodríguez', 'Química', 35,4),(3, 'Marta Rodríguez', None, 65,1), (4, 'Marta Rodríguez', 'Matemáticas', 45,3),(5, 'Ana López', 'Literatura', 50,2),(6, 'Isabel Sánchez', 'Física', 40,6)]\n",
    "columnas4=[\"Id\",\"Nombre\", \"Asignatura\",\"Horas\", \"Id_cole\"]\n",
    "df_profes_null=spark.createDataFrame(data=profesores4, schema=columnas4)\n"
   ]
  },
  {
   "cell_type": "code",
   "execution_count": 31,
   "metadata": {},
   "outputs": [
    {
     "name": "stdout",
     "output_type": "stream",
     "text": [
      "+---+---------------+-----------+-----+-------+\n",
      "| Id|         Nombre| Asignatura|Horas|Id_cole|\n",
      "+---+---------------+-----------+-----+-------+\n",
      "|  1|      Ana López|     Física| NULL|      3|\n",
      "|  2|Marta Rodríguez|    Química|   35|      4|\n",
      "|  3|Marta Rodríguez|       NULL|   65|      1|\n",
      "|  4|Marta Rodríguez|Matemáticas|   45|      3|\n",
      "|  5|      Ana López| Literatura|   50|      2|\n",
      "|  6| Isabel Sánchez|     Física|   40|      6|\n",
      "+---+---------------+-----------+-----+-------+\n",
      "\n"
     ]
    }
   ],
   "source": [
    "df_profes_null.show()"
   ]
  },
  {
   "cell_type": "code",
   "execution_count": 32,
   "metadata": {},
   "outputs": [
    {
     "name": "stdout",
     "output_type": "stream",
     "text": [
      "+---+---------------+-----------+-----+-------+\n",
      "| Id|         Nombre| Asignatura|Horas|Id_cole|\n",
      "+---+---------------+-----------+-----+-------+\n",
      "|  1|      Ana López|     Física|  999|      3|\n",
      "|  2|Marta Rodríguez|    Química|   35|      4|\n",
      "|  3|Marta Rodríguez|       NULL|   65|      1|\n",
      "|  4|Marta Rodríguez|Matemáticas|   45|      3|\n",
      "|  5|      Ana López| Literatura|   50|      2|\n",
      "|  6| Isabel Sánchez|     Física|   40|      6|\n",
      "+---+---------------+-----------+-----+-------+\n",
      "\n"
     ]
    }
   ],
   "source": [
    "#Usaremos .fill  para rellenar los valores nulos por un \"999\"\n",
    "df_profes_null.na.fill(value= 999).show()"
   ]
  },
  {
   "cell_type": "code",
   "execution_count": 33,
   "metadata": {},
   "outputs": [
    {
     "name": "stdout",
     "output_type": "stream",
     "text": [
      "+---+---------------+-----------+-----+-------+\n",
      "| Id|         Nombre| Asignatura|Horas|Id_cole|\n",
      "+---+---------------+-----------+-----+-------+\n",
      "|  1|      Ana López|     Física|  999|      3|\n",
      "|  2|Marta Rodríguez|    Química|   35|      4|\n",
      "|  3|Marta Rodríguez|       NULL|   65|      1|\n",
      "|  4|Marta Rodríguez|Matemáticas|   45|      3|\n",
      "|  5|      Ana López| Literatura|   50|      2|\n",
      "|  6| Isabel Sánchez|     Física|   40|      6|\n",
      "+---+---------------+-----------+-----+-------+\n",
      "\n"
     ]
    }
   ],
   "source": [
    "df_profes_null.na.fill(value= 999, subset=[\"Horas\"]).show()"
   ]
  },
  {
   "cell_type": "code",
   "execution_count": 37,
   "metadata": {},
   "outputs": [
    {
     "name": "stdout",
     "output_type": "stream",
     "text": [
      "+---+---------------+-----------+-----+-------+\n",
      "| Id|         Nombre| Asignatura|Horas|Id_cole|\n",
      "+---+---------------+-----------+-----+-------+\n",
      "|  1|      Ana López|     Física|    0|      3|\n",
      "|  2|Marta Rodríguez|    Química|   35|      4|\n",
      "|  3|Marta Rodríguez|Desconocido|   65|      1|\n",
      "|  4|Marta Rodríguez|Matemáticas|   45|      3|\n",
      "|  5|      Ana López| Literatura|   50|      2|\n",
      "|  6| Isabel Sánchez|     Física|   40|      6|\n",
      "+---+---------------+-----------+-----+-------+\n",
      "\n"
     ]
    }
   ],
   "source": [
    "df_profes_null.na.fill(\"Desconocido\", [\"Asignatura\"]).na.fill(0, [\"Horas\"]).show()\n",
    "#Tener en cuenta el tipo de valor que se incerta. Debe coincidir con el tipo de valores de la tabla."
   ]
  },
  {
   "cell_type": "code",
   "execution_count": 38,
   "metadata": {},
   "outputs": [],
   "source": [
    "spark.stop()"
   ]
  }
 ],
 "metadata": {
  "kernelspec": {
   "display_name": "Python 3",
   "language": "python",
   "name": "python3"
  },
  "language_info": {
   "codemirror_mode": {
    "name": "ipython",
    "version": 3
   },
   "file_extension": ".py",
   "mimetype": "text/x-python",
   "name": "python",
   "nbconvert_exporter": "python",
   "pygments_lexer": "ipython3",
   "version": "3.10.6"
  }
 },
 "nbformat": 4,
 "nbformat_minor": 2
}
