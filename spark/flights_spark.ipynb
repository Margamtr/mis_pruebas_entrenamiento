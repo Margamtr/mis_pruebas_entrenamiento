{
 "cells": [
  {
   "cell_type": "markdown",
   "metadata": {},
   "source": [
    "# Ejercicio Flights\n",
    "\n",
    "Importaremos y trataremos los datos obtenidos de un Dataset: \n",
    "https://www.kaggle.com/datasets/usdot/flight-delays?select=flights.csv\n",
    "\n",
    "Pondremos en práctica lo estudiado de Apache Spark.\n"
   ]
  },
  {
   "cell_type": "code",
   "execution_count": 1,
   "metadata": {},
   "outputs": [],
   "source": [
    "import findspark"
   ]
  },
  {
   "cell_type": "code",
   "execution_count": 2,
   "metadata": {},
   "outputs": [
    {
     "data": {
      "text/html": [
       "\n",
       "            <div>\n",
       "                <p><b>SparkSession - in-memory</b></p>\n",
       "                \n",
       "        <div>\n",
       "            <p><b>SparkContext</b></p>\n",
       "\n",
       "            <p><a href=\"http://LAPTOP-NPF8U9D3:4040\">Spark UI</a></p>\n",
       "\n",
       "            <dl>\n",
       "              <dt>Version</dt>\n",
       "                <dd><code>v3.5.3</code></dd>\n",
       "              <dt>Master</dt>\n",
       "                <dd><code>local[*]</code></dd>\n",
       "              <dt>AppName</dt>\n",
       "                <dd><code>Spark Flight App</code></dd>\n",
       "            </dl>\n",
       "        </div>\n",
       "        \n",
       "            </div>\n",
       "        "
      ],
      "text/plain": [
       "<pyspark.sql.session.SparkSession at 0x1bc6d125300>"
      ]
     },
     "execution_count": 2,
     "metadata": {},
     "output_type": "execute_result"
    }
   ],
   "source": [
    "#Creamos nuestra sesión de spark.\n",
    "from pyspark.sql import SparkSession\n",
    "spark=SparkSession.builder.appName(\"Spark Flight App\").getOrCreate()\n",
    "spark"
   ]
  },
  {
   "cell_type": "markdown",
   "metadata": {},
   "source": [
    "df_flight=spark \\\n",
    "    .read \\\n",
    "    .option(\"inferSchema\",\"true\") \\  Queremos que spark adivine cual es nuestro squema de datos e identifique el tipo de datos\n",
    "    .option(\"header\",\"true\") \\ # queremos que la primera fila sea el encabezado.\n",
    "    .csv(\"flights.csv\")"
   ]
  },
  {
   "cell_type": "code",
   "execution_count": 3,
   "metadata": {},
   "outputs": [],
   "source": [
    "df_flight=spark.read.option(\"inferSchema\",\"true\").option(\"header\",\"true\").csv(\"flights.csv\")"
   ]
  },
  {
   "cell_type": "code",
   "execution_count": 4,
   "metadata": {},
   "outputs": [
    {
     "data": {
      "text/plain": [
       "DataFrame[YEAR: int, MONTH: int, DAY: int, DAY_OF_WEEK: int, AIRLINE: string, FLIGHT_NUMBER: int, TAIL_NUMBER: string, ORIGIN_AIRPORT: string, DESTINATION_AIRPORT: string, SCHEDULED_DEPARTURE: int, DEPARTURE_TIME: int, DEPARTURE_DELAY: int, TAXI_OUT: int, WHEELS_OFF: int, SCHEDULED_TIME: int, ELAPSED_TIME: int, AIR_TIME: int, DISTANCE: int, WHEELS_ON: int, TAXI_IN: int, SCHEDULED_ARRIVAL: int, ARRIVAL_TIME: int, ARRIVAL_DELAY: int, DIVERTED: int, CANCELLED: int, CANCELLATION_REASON: string, AIR_SYSTEM_DELAY: int, SECURITY_DELAY: int, AIRLINE_DELAY: int, LATE_AIRCRAFT_DELAY: int, WEATHER_DELAY: int]"
      ]
     },
     "execution_count": 4,
     "metadata": {},
     "output_type": "execute_result"
    }
   ],
   "source": [
    "df_flight"
   ]
  },
  {
   "cell_type": "code",
   "execution_count": 5,
   "metadata": {},
   "outputs": [
    {
     "data": {
      "text/plain": [
       "5819079"
      ]
     },
     "execution_count": 5,
     "metadata": {},
     "output_type": "execute_result"
    }
   ],
   "source": [
    "#Obtenemos el numero de filas \n",
    "df_flight.count()"
   ]
  },
  {
   "cell_type": "code",
   "execution_count": 6,
   "metadata": {},
   "outputs": [
    {
     "data": {
      "text/plain": [
       "8"
      ]
     },
     "execution_count": 6,
     "metadata": {},
     "output_type": "execute_result"
    }
   ],
   "source": [
    "#Observamos cuantas particiones va a utilizar:\n",
    "df_flight.rdd.getNumPartitions()"
   ]
  },
  {
   "cell_type": "code",
   "execution_count": 7,
   "metadata": {},
   "outputs": [
    {
     "data": {
      "text/plain": [
       "StructType([StructField('YEAR', IntegerType(), True), StructField('MONTH', IntegerType(), True), StructField('DAY', IntegerType(), True), StructField('DAY_OF_WEEK', IntegerType(), True), StructField('AIRLINE', StringType(), True), StructField('FLIGHT_NUMBER', IntegerType(), True), StructField('TAIL_NUMBER', StringType(), True), StructField('ORIGIN_AIRPORT', StringType(), True), StructField('DESTINATION_AIRPORT', StringType(), True), StructField('SCHEDULED_DEPARTURE', IntegerType(), True), StructField('DEPARTURE_TIME', IntegerType(), True), StructField('DEPARTURE_DELAY', IntegerType(), True), StructField('TAXI_OUT', IntegerType(), True), StructField('WHEELS_OFF', IntegerType(), True), StructField('SCHEDULED_TIME', IntegerType(), True), StructField('ELAPSED_TIME', IntegerType(), True), StructField('AIR_TIME', IntegerType(), True), StructField('DISTANCE', IntegerType(), True), StructField('WHEELS_ON', IntegerType(), True), StructField('TAXI_IN', IntegerType(), True), StructField('SCHEDULED_ARRIVAL', IntegerType(), True), StructField('ARRIVAL_TIME', IntegerType(), True), StructField('ARRIVAL_DELAY', IntegerType(), True), StructField('DIVERTED', IntegerType(), True), StructField('CANCELLED', IntegerType(), True), StructField('CANCELLATION_REASON', StringType(), True), StructField('AIR_SYSTEM_DELAY', IntegerType(), True), StructField('SECURITY_DELAY', IntegerType(), True), StructField('AIRLINE_DELAY', IntegerType(), True), StructField('LATE_AIRCRAFT_DELAY', IntegerType(), True), StructField('WEATHER_DELAY', IntegerType(), True)])"
      ]
     },
     "execution_count": 7,
     "metadata": {},
     "output_type": "execute_result"
    }
   ],
   "source": [
    "df_flight.schema"
   ]
  },
  {
   "cell_type": "code",
   "execution_count": 8,
   "metadata": {},
   "outputs": [
    {
     "data": {
      "text/plain": [
       "[Row(YEAR=2015, MONTH=1, DAY=1, DAY_OF_WEEK=4, AIRLINE='AS', FLIGHT_NUMBER=98, TAIL_NUMBER='N407AS', ORIGIN_AIRPORT='ANC', DESTINATION_AIRPORT='SEA', SCHEDULED_DEPARTURE=5, DEPARTURE_TIME=2354, DEPARTURE_DELAY=-11, TAXI_OUT=21, WHEELS_OFF=15, SCHEDULED_TIME=205, ELAPSED_TIME=194, AIR_TIME=169, DISTANCE=1448, WHEELS_ON=404, TAXI_IN=4, SCHEDULED_ARRIVAL=430, ARRIVAL_TIME=408, ARRIVAL_DELAY=-22, DIVERTED=0, CANCELLED=0, CANCELLATION_REASON=None, AIR_SYSTEM_DELAY=None, SECURITY_DELAY=None, AIRLINE_DELAY=None, LATE_AIRCRAFT_DELAY=None, WEATHER_DELAY=None),\n",
       " Row(YEAR=2015, MONTH=1, DAY=1, DAY_OF_WEEK=4, AIRLINE='AA', FLIGHT_NUMBER=2336, TAIL_NUMBER='N3KUAA', ORIGIN_AIRPORT='LAX', DESTINATION_AIRPORT='PBI', SCHEDULED_DEPARTURE=10, DEPARTURE_TIME=2, DEPARTURE_DELAY=-8, TAXI_OUT=12, WHEELS_OFF=14, SCHEDULED_TIME=280, ELAPSED_TIME=279, AIR_TIME=263, DISTANCE=2330, WHEELS_ON=737, TAXI_IN=4, SCHEDULED_ARRIVAL=750, ARRIVAL_TIME=741, ARRIVAL_DELAY=-9, DIVERTED=0, CANCELLED=0, CANCELLATION_REASON=None, AIR_SYSTEM_DELAY=None, SECURITY_DELAY=None, AIRLINE_DELAY=None, LATE_AIRCRAFT_DELAY=None, WEATHER_DELAY=None),\n",
       " Row(YEAR=2015, MONTH=1, DAY=1, DAY_OF_WEEK=4, AIRLINE='US', FLIGHT_NUMBER=840, TAIL_NUMBER='N171US', ORIGIN_AIRPORT='SFO', DESTINATION_AIRPORT='CLT', SCHEDULED_DEPARTURE=20, DEPARTURE_TIME=18, DEPARTURE_DELAY=-2, TAXI_OUT=16, WHEELS_OFF=34, SCHEDULED_TIME=286, ELAPSED_TIME=293, AIR_TIME=266, DISTANCE=2296, WHEELS_ON=800, TAXI_IN=11, SCHEDULED_ARRIVAL=806, ARRIVAL_TIME=811, ARRIVAL_DELAY=5, DIVERTED=0, CANCELLED=0, CANCELLATION_REASON=None, AIR_SYSTEM_DELAY=None, SECURITY_DELAY=None, AIRLINE_DELAY=None, LATE_AIRCRAFT_DELAY=None, WEATHER_DELAY=None)]"
      ]
     },
     "execution_count": 8,
     "metadata": {},
     "output_type": "execute_result"
    }
   ],
   "source": [
    "df_flight.take(3)"
   ]
  },
  {
   "cell_type": "code",
   "execution_count": 9,
   "metadata": {},
   "outputs": [
    {
     "data": {
      "text/plain": [
       "[Row(YEAR=2015, MONTH=11, DAY=17, DAY_OF_WEEK=2, AIRLINE='AA', FLIGHT_NUMBER=315, TAIL_NUMBER='N5DVAA', ORIGIN_AIRPORT='DFW', DESTINATION_AIRPORT='SAT', SCHEDULED_DEPARTURE=1225, DEPARTURE_TIME=1230, DEPARTURE_DELAY=5, TAXI_OUT=19, WHEELS_OFF=1249, SCHEDULED_TIME=74, ELAPSED_TIME=71, AIR_TIME=46, DISTANCE=247, WHEELS_ON=1335, TAXI_IN=6, SCHEDULED_ARRIVAL=1339, ARRIVAL_TIME=1341, ARRIVAL_DELAY=2, DIVERTED=0, CANCELLED=0, CANCELLATION_REASON=None, AIR_SYSTEM_DELAY=None, SECURITY_DELAY=None, AIRLINE_DELAY=None, LATE_AIRCRAFT_DELAY=None, WEATHER_DELAY=None),\n",
       " Row(YEAR=2015, MONTH=7, DAY=4, DAY_OF_WEEK=6, AIRLINE='AA', FLIGHT_NUMBER=1238, TAIL_NUMBER='N3LXAA', ORIGIN_AIRPORT='MIA', DESTINATION_AIRPORT='LAX', SCHEDULED_DEPARTURE=1950, DEPARTURE_TIME=1958, DEPARTURE_DELAY=8, TAXI_OUT=31, WHEELS_OFF=2029, SCHEDULED_TIME=327, ELAPSED_TIME=335, AIR_TIME=297, DISTANCE=2342, WHEELS_ON=2226, TAXI_IN=7, SCHEDULED_ARRIVAL=2217, ARRIVAL_TIME=2233, ARRIVAL_DELAY=16, DIVERTED=0, CANCELLED=0, CANCELLATION_REASON=None, AIR_SYSTEM_DELAY=8, SECURITY_DELAY=0, AIRLINE_DELAY=0, LATE_AIRCRAFT_DELAY=8, WEATHER_DELAY=0),\n",
       " Row(YEAR=2015, MONTH=8, DAY=17, DAY_OF_WEEK=1, AIRLINE='AA', FLIGHT_NUMBER=990, TAIL_NUMBER='N3CYAA', ORIGIN_AIRPORT='MIA', DESTINATION_AIRPORT='DFW', SCHEDULED_DEPARTURE=1225, DEPARTURE_TIME=1229, DEPARTURE_DELAY=4, TAXI_OUT=15, WHEELS_OFF=1244, SCHEDULED_TIME=186, ELAPSED_TIME=173, AIR_TIME=152, DISTANCE=1121, WHEELS_ON=1416, TAXI_IN=6, SCHEDULED_ARRIVAL=1431, ARRIVAL_TIME=1422, ARRIVAL_DELAY=-9, DIVERTED=0, CANCELLED=0, CANCELLATION_REASON=None, AIR_SYSTEM_DELAY=None, SECURITY_DELAY=None, AIRLINE_DELAY=None, LATE_AIRCRAFT_DELAY=None, WEATHER_DELAY=None)]"
      ]
     },
     "execution_count": 9,
     "metadata": {},
     "output_type": "execute_result"
    }
   ],
   "source": [
    "#ordenamos los datos por aerolinia por orden alfabético.\n",
    "df_flight.sort(\"AIRLINE\").take(3)"
   ]
  },
  {
   "cell_type": "code",
   "execution_count": 10,
   "metadata": {},
   "outputs": [
    {
     "data": {
      "text/plain": [
       "9"
      ]
     },
     "execution_count": 10,
     "metadata": {},
     "output_type": "execute_result"
    }
   ],
   "source": [
    "#Vemos cuantas particiones está usando spark:\n",
    "df_flight.sort(\"AIRLINE\").rdd.getNumPartitions()"
   ]
  },
  {
   "cell_type": "code",
   "execution_count": 11,
   "metadata": {},
   "outputs": [],
   "source": [
    "#disminuimos el numero de particiones creadas para mejorar los tiempos de ejecución\n",
    "spark.conf.set(\"spark.sql.shuffle.partitions\",\"4\")"
   ]
  },
  {
   "cell_type": "code",
   "execution_count": 12,
   "metadata": {},
   "outputs": [
    {
     "data": {
      "text/plain": [
       "4"
      ]
     },
     "execution_count": 12,
     "metadata": {},
     "output_type": "execute_result"
    }
   ],
   "source": [
    "#Vemos cuantas particiones está usando spark:\n",
    "df_flight.sort(\"AIRLINE\").rdd.getNumPartitions()"
   ]
  },
  {
   "cell_type": "code",
   "execution_count": 13,
   "metadata": {},
   "outputs": [
    {
     "data": {
      "text/plain": [
       "[Row(max(AIR_TIME)=690)]"
      ]
     },
     "execution_count": 13,
     "metadata": {},
     "output_type": "execute_result"
    }
   ],
   "source": [
    "#Obtenemos el tiempo máximo que un vuelo ha pasado en el aire:\n",
    "from pyspark.sql.functions import max\n",
    "df_flight.select(max(\"AIR_TIME\")).collect()"
   ]
  },
  {
   "cell_type": "code",
   "execution_count": 14,
   "metadata": {},
   "outputs": [
    {
     "name": "stdout",
     "output_type": "stream",
     "text": [
      "+-------------------+---------+\n",
      "|DESTINATION_AIRPORT|Cancelado|\n",
      "+-------------------+---------+\n",
      "|                ORD|     9273|\n",
      "|                DFW|     6749|\n",
      "|                LGA|     4418|\n",
      "|                EWR|     3350|\n",
      "|                ATL|     2715|\n",
      "+-------------------+---------+\n",
      "\n"
     ]
    }
   ],
   "source": [
    "#Obtenemos qué aeropuertos de destino tiene mayor numero de vuelos cancelados.\n",
    "from pyspark.sql.functions import desc #importamos descendente\n",
    "#df_flight.groupby(\"DESTINATION_AIRPORT\").sum(\"CANCELLED\").withColumnRenamed(\"sum(CANCELLED)\",\"Cancelado\").sort(desc(\"Cancelado\")).limit(5).show()\n",
    "df_flight.groupby(\"DESTINATION_AIRPORT\") \\\n",
    "    .sum(\"CANCELLED\") \\\n",
    "    .withColumnRenamed(\"sum(CANCELLED)\",\"Cancelado\") \\\n",
    "    .sort(desc(\"Cancelado\"))  \\\n",
    "    .limit(5) \\\n",
    "    .show()"
   ]
  },
  {
   "cell_type": "code",
   "execution_count": 15,
   "metadata": {},
   "outputs": [
    {
     "name": "stdout",
     "output_type": "stream",
     "text": [
      "+--------------+---------+\n",
      "|ORIGIN_AIRPORT|Cancelado|\n",
      "+--------------+---------+\n",
      "|           ORD|     8548|\n",
      "|           DFW|     6254|\n",
      "|           LGA|     4531|\n",
      "|           EWR|     3110|\n",
      "|           BOS|     2654|\n",
      "+--------------+---------+\n",
      "\n"
     ]
    }
   ],
   "source": [
    "df_flight.groupby(\"ORIGIN_AIRPORT\") \\\n",
    "    .sum(\"CANCELLED\") \\\n",
    "    .withColumnRenamed(\"sum(CANCELLED)\",\"Cancelado\") \\\n",
    "    .sort(desc(\"Cancelado\"))  \\\n",
    "    .limit(5) \\\n",
    "    .show()"
   ]
  },
  {
   "cell_type": "code",
   "execution_count": 16,
   "metadata": {},
   "outputs": [
    {
     "name": "stdout",
     "output_type": "stream",
     "text": [
      "+-------+\n",
      "|AIRLINE|\n",
      "+-------+\n",
      "|     AS|\n",
      "|     AA|\n",
      "|     US|\n",
      "|     AA|\n",
      "|     AS|\n",
      "|     DL|\n",
      "|     NK|\n",
      "|     US|\n",
      "|     AA|\n",
      "|     DL|\n",
      "|     DL|\n",
      "|     AA|\n",
      "|     DL|\n",
      "|     DL|\n",
      "|     DL|\n",
      "|     AS|\n",
      "|     DL|\n",
      "|     UA|\n",
      "|     AS|\n",
      "|     DL|\n",
      "+-------+\n",
      "only showing top 20 rows\n",
      "\n"
     ]
    }
   ],
   "source": [
    "#Seleccionamos columnas\n",
    "df_flight.select(\"AIRLINE\").show()"
   ]
  },
  {
   "cell_type": "code",
   "execution_count": 17,
   "metadata": {},
   "outputs": [
    {
     "name": "stdout",
     "output_type": "stream",
     "text": [
      "+-------+--------------+\n",
      "|AIRLINE|ORIGIN_AIRPORT|\n",
      "+-------+--------------+\n",
      "|     AS|           ANC|\n",
      "|     AA|           LAX|\n",
      "|     US|           SFO|\n",
      "|     AA|           LAX|\n",
      "|     AS|           SEA|\n",
      "|     DL|           SFO|\n",
      "|     NK|           LAS|\n",
      "|     US|           LAX|\n",
      "|     AA|           SFO|\n",
      "|     DL|           LAS|\n",
      "|     DL|           DEN|\n",
      "|     AA|           LAS|\n",
      "|     DL|           LAX|\n",
      "|     DL|           SLC|\n",
      "|     DL|           SEA|\n",
      "|     AS|           ANC|\n",
      "|     DL|           ANC|\n",
      "|     UA|           SFO|\n",
      "|     AS|           ANC|\n",
      "|     DL|           PDX|\n",
      "+-------+--------------+\n",
      "only showing top 20 rows\n",
      "\n"
     ]
    }
   ],
   "source": [
    "df_flight.select(\"AIRLINE\",\"ORIGIN_AIRPORT\").show()"
   ]
  },
  {
   "cell_type": "code",
   "execution_count": 18,
   "metadata": {},
   "outputs": [
    {
     "name": "stdout",
     "output_type": "stream",
     "text": [
      "+-------+--------------+\n",
      "|AIRLINE|ORIGIN_AIRPORT|\n",
      "+-------+--------------+\n",
      "|     AS|           ANC|\n",
      "|     AA|           LAX|\n",
      "|     US|           SFO|\n",
      "|     AA|           LAX|\n",
      "|     AS|           SEA|\n",
      "|     DL|           SFO|\n",
      "|     NK|           LAS|\n",
      "|     US|           LAX|\n",
      "|     AA|           SFO|\n",
      "|     DL|           LAS|\n",
      "|     DL|           DEN|\n",
      "|     AA|           LAS|\n",
      "|     DL|           LAX|\n",
      "|     DL|           SLC|\n",
      "|     DL|           SEA|\n",
      "|     AS|           ANC|\n",
      "|     DL|           ANC|\n",
      "|     UA|           SFO|\n",
      "|     AS|           ANC|\n",
      "|     DL|           PDX|\n",
      "+-------+--------------+\n",
      "only showing top 20 rows\n",
      "\n"
     ]
    }
   ],
   "source": [
    "df_flight.select(df_flight[\"AIRLINE\"], df_flight[\"ORIGIN_AIRPORT\"]).show()"
   ]
  },
  {
   "cell_type": "code",
   "execution_count": 19,
   "metadata": {},
   "outputs": [
    {
     "name": "stdout",
     "output_type": "stream",
     "text": [
      "+----+-----+---+-----------+-------+-------------+-----------+--------------+-------------------+-------------------+--------------+---------------+--------+----------+--------------+------------+--------+--------+---------+-------+-----------------+------------+-------------+--------+---------+-------------------+----------------+--------------+-------------+-------------------+-------------+\n",
      "|YEAR|MONTH|DAY|DAY_OF_WEEK|AIRLINE|FLIGHT_NUMBER|TAIL_NUMBER|ORIGIN_AIRPORT|DESTINATION_AIRPORT|SCHEDULED_DEPARTURE|DEPARTURE_TIME|DEPARTURE_DELAY|TAXI_OUT|WHEELS_OFF|SCHEDULED_TIME|ELAPSED_TIME|AIR_TIME|DISTANCE|WHEELS_ON|TAXI_IN|SCHEDULED_ARRIVAL|ARRIVAL_TIME|ARRIVAL_DELAY|DIVERTED|CANCELLED|CANCELLATION_REASON|AIR_SYSTEM_DELAY|SECURITY_DELAY|AIRLINE_DELAY|LATE_AIRCRAFT_DELAY|WEATHER_DELAY|\n",
      "+----+-----+---+-----------+-------+-------------+-----------+--------------+-------------------+-------------------+--------------+---------------+--------+----------+--------------+------------+--------+--------+---------+-------+-----------------+------------+-------------+--------+---------+-------------------+----------------+--------------+-------------+-------------------+-------------+\n",
      "|2015|    1|  1|          4|     AS|           98|     N407AS|           ANC|                SEA|                  5|          2354|            -11|      21|        15|           205|         194|     169|    1448|      404|      4|              430|         408|          -22|       0|        0|               NULL|            NULL|          NULL|         NULL|               NULL|         NULL|\n",
      "|2015|    1|  1|          4|     AA|         2336|     N3KUAA|           LAX|                PBI|                 10|             2|             -8|      12|        14|           280|         279|     263|    2330|      737|      4|              750|         741|           -9|       0|        0|               NULL|            NULL|          NULL|         NULL|               NULL|         NULL|\n",
      "|2015|    1|  1|          4|     US|          840|     N171US|           SFO|                CLT|                 20|            18|             -2|      16|        34|           286|         293|     266|    2296|      800|     11|              806|         811|            5|       0|        0|               NULL|            NULL|          NULL|         NULL|               NULL|         NULL|\n",
      "|2015|    1|  1|          4|     AA|          258|     N3HYAA|           LAX|                MIA|                 20|            15|             -5|      15|        30|           285|         281|     258|    2342|      748|      8|              805|         756|           -9|       0|        0|               NULL|            NULL|          NULL|         NULL|               NULL|         NULL|\n",
      "|2015|    1|  1|          4|     AS|          135|     N527AS|           SEA|                ANC|                 25|            24|             -1|      11|        35|           235|         215|     199|    1448|      254|      5|              320|         259|          -21|       0|        0|               NULL|            NULL|          NULL|         NULL|               NULL|         NULL|\n",
      "|2015|    1|  1|          4|     DL|          806|     N3730B|           SFO|                MSP|                 25|            20|             -5|      18|        38|           217|         230|     206|    1589|      604|      6|              602|         610|            8|       0|        0|               NULL|            NULL|          NULL|         NULL|               NULL|         NULL|\n",
      "|2015|    1|  1|          4|     NK|          612|     N635NK|           LAS|                MSP|                 25|            19|             -6|      11|        30|           181|         170|     154|    1299|      504|      5|              526|         509|          -17|       0|        0|               NULL|            NULL|          NULL|         NULL|               NULL|         NULL|\n",
      "|2015|    1|  1|          4|     US|         2013|     N584UW|           LAX|                CLT|                 30|            44|             14|      13|        57|           273|         249|     228|    2125|      745|      8|              803|         753|          -10|       0|        0|               NULL|            NULL|          NULL|         NULL|               NULL|         NULL|\n",
      "|2015|    1|  1|          4|     AA|         1112|     N3LAAA|           SFO|                DFW|                 30|            19|            -11|      17|        36|           195|         193|     173|    1464|      529|      3|              545|         532|          -13|       0|        0|               NULL|            NULL|          NULL|         NULL|               NULL|         NULL|\n",
      "|2015|    1|  1|          4|     DL|         1173|     N826DN|           LAS|                ATL|                 30|            33|              3|      12|        45|           221|         203|     186|    1747|      651|      5|              711|         656|          -15|       0|        0|               NULL|            NULL|          NULL|         NULL|               NULL|         NULL|\n",
      "|2015|    1|  1|          4|     DL|         2336|     N958DN|           DEN|                ATL|                 30|            24|             -6|      12|        36|           173|         149|     133|    1199|      449|      4|              523|         453|          -30|       0|        0|               NULL|            NULL|          NULL|         NULL|               NULL|         NULL|\n",
      "|2015|    1|  1|          4|     AA|         1674|     N853AA|           LAS|                MIA|                 35|            27|             -8|      21|        48|           268|         266|     238|    2174|      746|      7|              803|         753|          -10|       0|        0|               NULL|            NULL|          NULL|         NULL|               NULL|         NULL|\n",
      "|2015|    1|  1|          4|     DL|         1434|     N547US|           LAX|                MSP|                 35|            35|              0|      18|        53|           214|         210|     188|    1535|      601|      4|              609|         605|           -4|       0|        0|               NULL|            NULL|          NULL|         NULL|               NULL|         NULL|\n",
      "|2015|    1|  1|          4|     DL|         2324|     N3751B|           SLC|                ATL|                 40|            34|             -6|      18|        52|           215|         199|     176|    1590|      548|      5|              615|         553|          -22|       0|        0|               NULL|            NULL|          NULL|         NULL|               NULL|         NULL|\n",
      "|2015|    1|  1|          4|     DL|         2440|     N651DL|           SEA|                MSP|                 40|            39|             -1|      28|       107|           189|         198|     166|    1399|      553|      4|              549|         557|            8|       0|        0|               NULL|            NULL|          NULL|         NULL|               NULL|         NULL|\n",
      "|2015|    1|  1|          4|     AS|          108|     N309AS|           ANC|                SEA|                 45|            41|             -4|      17|        58|           204|         194|     173|    1448|      451|      4|              509|         455|          -14|       0|        0|               NULL|            NULL|          NULL|         NULL|               NULL|         NULL|\n",
      "|2015|    1|  1|          4|     DL|         1560|     N3743H|           ANC|                SEA|                 45|            31|            -14|      25|        56|           210|         200|     171|    1448|      447|      4|              515|         451|          -24|       0|        0|               NULL|            NULL|          NULL|         NULL|               NULL|         NULL|\n",
      "|2015|    1|  1|          4|     UA|         1197|     N78448|           SFO|                IAH|                 48|            42|             -6|      11|        53|           218|         217|     199|    1635|      612|      7|              626|         619|           -7|       0|        0|               NULL|            NULL|          NULL|         NULL|               NULL|         NULL|\n",
      "|2015|    1|  1|          4|     AS|          122|     N413AS|           ANC|                PDX|                 50|            46|             -4|      11|        57|           215|         201|     187|    1542|      504|      3|              525|         507|          -18|       0|        0|               NULL|            NULL|          NULL|         NULL|               NULL|         NULL|\n",
      "|2015|    1|  1|          4|     DL|         1670|     N806DN|           PDX|                MSP|                 50|            45|             -5|       9|        54|           193|         186|     171|    1426|      545|      6|              603|         551|          -12|       0|        0|               NULL|            NULL|          NULL|         NULL|               NULL|         NULL|\n",
      "+----+-----+---+-----------+-------+-------------+-----------+--------------+-------------------+-------------------+--------------+---------------+--------+----------+--------------+------------+--------+--------+---------+-------+-----------------+------------+-------------+--------+---------+-------------------+----------------+--------------+-------------+-------------------+-------------+\n",
      "only showing top 20 rows\n",
      "\n"
     ]
    }
   ],
   "source": [
    "#Seleccionamos todas las columnas\n",
    "df_flight.select([col for col in df_flight.columns]).show()"
   ]
  },
  {
   "cell_type": "code",
   "execution_count": 20,
   "metadata": {},
   "outputs": [
    {
     "name": "stdout",
     "output_type": "stream",
     "text": [
      "+----+-----+---+-----------+-------+-------------+-----------+--------------+-------------------+-------------------+--------------+---------------+--------+----------+--------------+------------+--------+--------+---------+-------+-----------------+------------+-------------+--------+---------+-------------------+----------------+--------------+-------------+-------------------+-------------+\n",
      "|YEAR|MONTH|DAY|DAY_OF_WEEK|AIRLINE|FLIGHT_NUMBER|TAIL_NUMBER|ORIGIN_AIRPORT|DESTINATION_AIRPORT|SCHEDULED_DEPARTURE|DEPARTURE_TIME|DEPARTURE_DELAY|TAXI_OUT|WHEELS_OFF|SCHEDULED_TIME|ELAPSED_TIME|AIR_TIME|DISTANCE|WHEELS_ON|TAXI_IN|SCHEDULED_ARRIVAL|ARRIVAL_TIME|ARRIVAL_DELAY|DIVERTED|CANCELLED|CANCELLATION_REASON|AIR_SYSTEM_DELAY|SECURITY_DELAY|AIRLINE_DELAY|LATE_AIRCRAFT_DELAY|WEATHER_DELAY|\n",
      "+----+-----+---+-----------+-------+-------------+-----------+--------------+-------------------+-------------------+--------------+---------------+--------+----------+--------------+------------+--------+--------+---------+-------+-----------------+------------+-------------+--------+---------+-------------------+----------------+--------------+-------------+-------------------+-------------+\n",
      "|2015|    1|  1|          4|     AS|           98|     N407AS|           ANC|                SEA|                  5|          2354|            -11|      21|        15|           205|         194|     169|    1448|      404|      4|              430|         408|          -22|       0|        0|               NULL|            NULL|          NULL|         NULL|               NULL|         NULL|\n",
      "|2015|    1|  1|          4|     AA|         2336|     N3KUAA|           LAX|                PBI|                 10|             2|             -8|      12|        14|           280|         279|     263|    2330|      737|      4|              750|         741|           -9|       0|        0|               NULL|            NULL|          NULL|         NULL|               NULL|         NULL|\n",
      "|2015|    1|  1|          4|     US|          840|     N171US|           SFO|                CLT|                 20|            18|             -2|      16|        34|           286|         293|     266|    2296|      800|     11|              806|         811|            5|       0|        0|               NULL|            NULL|          NULL|         NULL|               NULL|         NULL|\n",
      "|2015|    1|  1|          4|     AA|          258|     N3HYAA|           LAX|                MIA|                 20|            15|             -5|      15|        30|           285|         281|     258|    2342|      748|      8|              805|         756|           -9|       0|        0|               NULL|            NULL|          NULL|         NULL|               NULL|         NULL|\n",
      "|2015|    1|  1|          4|     AS|          135|     N527AS|           SEA|                ANC|                 25|            24|             -1|      11|        35|           235|         215|     199|    1448|      254|      5|              320|         259|          -21|       0|        0|               NULL|            NULL|          NULL|         NULL|               NULL|         NULL|\n",
      "|2015|    1|  1|          4|     DL|          806|     N3730B|           SFO|                MSP|                 25|            20|             -5|      18|        38|           217|         230|     206|    1589|      604|      6|              602|         610|            8|       0|        0|               NULL|            NULL|          NULL|         NULL|               NULL|         NULL|\n",
      "|2015|    1|  1|          4|     NK|          612|     N635NK|           LAS|                MSP|                 25|            19|             -6|      11|        30|           181|         170|     154|    1299|      504|      5|              526|         509|          -17|       0|        0|               NULL|            NULL|          NULL|         NULL|               NULL|         NULL|\n",
      "|2015|    1|  1|          4|     US|         2013|     N584UW|           LAX|                CLT|                 30|            44|             14|      13|        57|           273|         249|     228|    2125|      745|      8|              803|         753|          -10|       0|        0|               NULL|            NULL|          NULL|         NULL|               NULL|         NULL|\n",
      "|2015|    1|  1|          4|     AA|         1112|     N3LAAA|           SFO|                DFW|                 30|            19|            -11|      17|        36|           195|         193|     173|    1464|      529|      3|              545|         532|          -13|       0|        0|               NULL|            NULL|          NULL|         NULL|               NULL|         NULL|\n",
      "|2015|    1|  1|          4|     DL|         1173|     N826DN|           LAS|                ATL|                 30|            33|              3|      12|        45|           221|         203|     186|    1747|      651|      5|              711|         656|          -15|       0|        0|               NULL|            NULL|          NULL|         NULL|               NULL|         NULL|\n",
      "|2015|    1|  1|          4|     DL|         2336|     N958DN|           DEN|                ATL|                 30|            24|             -6|      12|        36|           173|         149|     133|    1199|      449|      4|              523|         453|          -30|       0|        0|               NULL|            NULL|          NULL|         NULL|               NULL|         NULL|\n",
      "|2015|    1|  1|          4|     AA|         1674|     N853AA|           LAS|                MIA|                 35|            27|             -8|      21|        48|           268|         266|     238|    2174|      746|      7|              803|         753|          -10|       0|        0|               NULL|            NULL|          NULL|         NULL|               NULL|         NULL|\n",
      "|2015|    1|  1|          4|     DL|         1434|     N547US|           LAX|                MSP|                 35|            35|              0|      18|        53|           214|         210|     188|    1535|      601|      4|              609|         605|           -4|       0|        0|               NULL|            NULL|          NULL|         NULL|               NULL|         NULL|\n",
      "|2015|    1|  1|          4|     DL|         2324|     N3751B|           SLC|                ATL|                 40|            34|             -6|      18|        52|           215|         199|     176|    1590|      548|      5|              615|         553|          -22|       0|        0|               NULL|            NULL|          NULL|         NULL|               NULL|         NULL|\n",
      "|2015|    1|  1|          4|     DL|         2440|     N651DL|           SEA|                MSP|                 40|            39|             -1|      28|       107|           189|         198|     166|    1399|      553|      4|              549|         557|            8|       0|        0|               NULL|            NULL|          NULL|         NULL|               NULL|         NULL|\n",
      "|2015|    1|  1|          4|     AS|          108|     N309AS|           ANC|                SEA|                 45|            41|             -4|      17|        58|           204|         194|     173|    1448|      451|      4|              509|         455|          -14|       0|        0|               NULL|            NULL|          NULL|         NULL|               NULL|         NULL|\n",
      "|2015|    1|  1|          4|     DL|         1560|     N3743H|           ANC|                SEA|                 45|            31|            -14|      25|        56|           210|         200|     171|    1448|      447|      4|              515|         451|          -24|       0|        0|               NULL|            NULL|          NULL|         NULL|               NULL|         NULL|\n",
      "|2015|    1|  1|          4|     UA|         1197|     N78448|           SFO|                IAH|                 48|            42|             -6|      11|        53|           218|         217|     199|    1635|      612|      7|              626|         619|           -7|       0|        0|               NULL|            NULL|          NULL|         NULL|               NULL|         NULL|\n",
      "|2015|    1|  1|          4|     AS|          122|     N413AS|           ANC|                PDX|                 50|            46|             -4|      11|        57|           215|         201|     187|    1542|      504|      3|              525|         507|          -18|       0|        0|               NULL|            NULL|          NULL|         NULL|               NULL|         NULL|\n",
      "|2015|    1|  1|          4|     DL|         1670|     N806DN|           PDX|                MSP|                 50|            45|             -5|       9|        54|           193|         186|     171|    1426|      545|      6|              603|         551|          -12|       0|        0|               NULL|            NULL|          NULL|         NULL|               NULL|         NULL|\n",
      "+----+-----+---+-----------+-------+-------------+-----------+--------------+-------------------+-------------------+--------------+---------------+--------+----------+--------------+------------+--------+--------+---------+-------+-----------------+------------+-------------+--------+---------+-------------------+----------------+--------------+-------------+-------------------+-------------+\n",
      "only showing top 20 rows\n",
      "\n"
     ]
    }
   ],
   "source": [
    "df_flight.select(\"*\").show()"
   ]
  },
  {
   "cell_type": "code",
   "execution_count": 21,
   "metadata": {},
   "outputs": [
    {
     "data": {
      "text/plain": [
       "StructType([StructField('YEAR', IntegerType(), True), StructField('MONTH', IntegerType(), True), StructField('DAY', IntegerType(), True), StructField('DAY_OF_WEEK', IntegerType(), True), StructField('AIRLINE', StringType(), True), StructField('FLIGHT_NUMBER', IntegerType(), True), StructField('TAIL_NUMBER', StringType(), True), StructField('ORIGIN_AIRPORT', StringType(), True), StructField('DESTINATION_AIRPORT', StringType(), True), StructField('SCHEDULED_DEPARTURE', IntegerType(), True), StructField('DEPARTURE_TIME', IntegerType(), True), StructField('DEPARTURE_DELAY', IntegerType(), True), StructField('TAXI_OUT', IntegerType(), True), StructField('WHEELS_OFF', IntegerType(), True), StructField('SCHEDULED_TIME', IntegerType(), True), StructField('ELAPSED_TIME', IntegerType(), True), StructField('AIR_TIME', IntegerType(), True), StructField('DISTANCE', IntegerType(), True), StructField('WHEELS_ON', IntegerType(), True), StructField('TAXI_IN', IntegerType(), True), StructField('SCHEDULED_ARRIVAL', IntegerType(), True), StructField('ARRIVAL_TIME', IntegerType(), True), StructField('ARRIVAL_DELAY', IntegerType(), True), StructField('DIVERTED', IntegerType(), True), StructField('CANCELLED', IntegerType(), True), StructField('CANCELLATION_REASON', StringType(), True), StructField('AIR_SYSTEM_DELAY', IntegerType(), True), StructField('SECURITY_DELAY', IntegerType(), True), StructField('AIRLINE_DELAY', IntegerType(), True), StructField('LATE_AIRCRAFT_DELAY', IntegerType(), True), StructField('WEATHER_DELAY', IntegerType(), True)])"
      ]
     },
     "execution_count": 21,
     "metadata": {},
     "output_type": "execute_result"
    }
   ],
   "source": [
    "df_flight.schema"
   ]
  },
  {
   "cell_type": "code",
   "execution_count": 22,
   "metadata": {},
   "outputs": [],
   "source": [
    "df_flight_prueba=df_flight"
   ]
  },
  {
   "cell_type": "code",
   "execution_count": 23,
   "metadata": {},
   "outputs": [
    {
     "name": "stdout",
     "output_type": "stream",
     "text": [
      "+----+-----+---+-----------+-------+-------------+-----------+--------------+-------------------+-------------------+--------------+---------------+--------+----------+--------------+------------+--------+--------+---------+-------+-----------------+------------+-------------+--------+---------+-------------------+----------------+--------------+-------------+-------------------+-------------+\n",
      "|YEAR|MONTH|DAY|DAY_OF_WEEK|AIRLINE|FLIGHT_NUMBER|TAIL_NUMBER|ORIGIN_AIRPORT|DESTINATION_AIRPORT|SCHEDULED_DEPARTURE|DEPARTURE_TIME|DEPARTURE_DELAY|TAXI_OUT|WHEELS_OFF|SCHEDULED_TIME|ELAPSED_TIME|AIR_TIME|DISTANCE|WHEELS_ON|TAXI_IN|SCHEDULED_ARRIVAL|ARRIVAL_TIME|ARRIVAL_DELAY|DIVERTED|CANCELLED|CANCELLATION_REASON|AIR_SYSTEM_DELAY|SECURITY_DELAY|AIRLINE_DELAY|LATE_AIRCRAFT_DELAY|WEATHER_DELAY|\n",
      "+----+-----+---+-----------+-------+-------------+-----------+--------------+-------------------+-------------------+--------------+---------------+--------+----------+--------------+------------+--------+--------+---------+-------+-----------------+------------+-------------+--------+---------+-------------------+----------------+--------------+-------------+-------------------+-------------+\n",
      "|2015|    1|  1|          4|     AS|           98|     N407AS|           ANC|                SEA|                  5|          2354|            -11|      21|        15|           205|         194|     169|    1448|      404|      4|              430|         408|          -22|       0|        0|               NULL|            NULL|          NULL|         NULL|               NULL|         NULL|\n",
      "|2015|    1|  1|          4|     AA|         2336|     N3KUAA|           LAX|                PBI|                 10|             2|             -8|      12|        14|           280|         279|     263|    2330|      737|      4|              750|         741|           -9|       0|        0|               NULL|            NULL|          NULL|         NULL|               NULL|         NULL|\n",
      "|2015|    1|  1|          4|     US|          840|     N171US|           SFO|                CLT|                 20|            18|             -2|      16|        34|           286|         293|     266|    2296|      800|     11|              806|         811|            5|       0|        0|               NULL|            NULL|          NULL|         NULL|               NULL|         NULL|\n",
      "|2015|    1|  1|          4|     AA|          258|     N3HYAA|           LAX|                MIA|                 20|            15|             -5|      15|        30|           285|         281|     258|    2342|      748|      8|              805|         756|           -9|       0|        0|               NULL|            NULL|          NULL|         NULL|               NULL|         NULL|\n",
      "|2015|    1|  1|          4|     AS|          135|     N527AS|           SEA|                ANC|                 25|            24|             -1|      11|        35|           235|         215|     199|    1448|      254|      5|              320|         259|          -21|       0|        0|               NULL|            NULL|          NULL|         NULL|               NULL|         NULL|\n",
      "|2015|    1|  1|          4|     DL|          806|     N3730B|           SFO|                MSP|                 25|            20|             -5|      18|        38|           217|         230|     206|    1589|      604|      6|              602|         610|            8|       0|        0|               NULL|            NULL|          NULL|         NULL|               NULL|         NULL|\n",
      "|2015|    1|  1|          4|     NK|          612|     N635NK|           LAS|                MSP|                 25|            19|             -6|      11|        30|           181|         170|     154|    1299|      504|      5|              526|         509|          -17|       0|        0|               NULL|            NULL|          NULL|         NULL|               NULL|         NULL|\n",
      "|2015|    1|  1|          4|     US|         2013|     N584UW|           LAX|                CLT|                 30|            44|             14|      13|        57|           273|         249|     228|    2125|      745|      8|              803|         753|          -10|       0|        0|               NULL|            NULL|          NULL|         NULL|               NULL|         NULL|\n",
      "|2015|    1|  1|          4|     AA|         1112|     N3LAAA|           SFO|                DFW|                 30|            19|            -11|      17|        36|           195|         193|     173|    1464|      529|      3|              545|         532|          -13|       0|        0|               NULL|            NULL|          NULL|         NULL|               NULL|         NULL|\n",
      "|2015|    1|  1|          4|     DL|         1173|     N826DN|           LAS|                ATL|                 30|            33|              3|      12|        45|           221|         203|     186|    1747|      651|      5|              711|         656|          -15|       0|        0|               NULL|            NULL|          NULL|         NULL|               NULL|         NULL|\n",
      "|2015|    1|  1|          4|     DL|         2336|     N958DN|           DEN|                ATL|                 30|            24|             -6|      12|        36|           173|         149|     133|    1199|      449|      4|              523|         453|          -30|       0|        0|               NULL|            NULL|          NULL|         NULL|               NULL|         NULL|\n",
      "|2015|    1|  1|          4|     AA|         1674|     N853AA|           LAS|                MIA|                 35|            27|             -8|      21|        48|           268|         266|     238|    2174|      746|      7|              803|         753|          -10|       0|        0|               NULL|            NULL|          NULL|         NULL|               NULL|         NULL|\n",
      "|2015|    1|  1|          4|     DL|         1434|     N547US|           LAX|                MSP|                 35|            35|              0|      18|        53|           214|         210|     188|    1535|      601|      4|              609|         605|           -4|       0|        0|               NULL|            NULL|          NULL|         NULL|               NULL|         NULL|\n",
      "|2015|    1|  1|          4|     DL|         2324|     N3751B|           SLC|                ATL|                 40|            34|             -6|      18|        52|           215|         199|     176|    1590|      548|      5|              615|         553|          -22|       0|        0|               NULL|            NULL|          NULL|         NULL|               NULL|         NULL|\n",
      "|2015|    1|  1|          4|     DL|         2440|     N651DL|           SEA|                MSP|                 40|            39|             -1|      28|       107|           189|         198|     166|    1399|      553|      4|              549|         557|            8|       0|        0|               NULL|            NULL|          NULL|         NULL|               NULL|         NULL|\n",
      "|2015|    1|  1|          4|     AS|          108|     N309AS|           ANC|                SEA|                 45|            41|             -4|      17|        58|           204|         194|     173|    1448|      451|      4|              509|         455|          -14|       0|        0|               NULL|            NULL|          NULL|         NULL|               NULL|         NULL|\n",
      "|2015|    1|  1|          4|     DL|         1560|     N3743H|           ANC|                SEA|                 45|            31|            -14|      25|        56|           210|         200|     171|    1448|      447|      4|              515|         451|          -24|       0|        0|               NULL|            NULL|          NULL|         NULL|               NULL|         NULL|\n",
      "|2015|    1|  1|          4|     UA|         1197|     N78448|           SFO|                IAH|                 48|            42|             -6|      11|        53|           218|         217|     199|    1635|      612|      7|              626|         619|           -7|       0|        0|               NULL|            NULL|          NULL|         NULL|               NULL|         NULL|\n",
      "|2015|    1|  1|          4|     AS|          122|     N413AS|           ANC|                PDX|                 50|            46|             -4|      11|        57|           215|         201|     187|    1542|      504|      3|              525|         507|          -18|       0|        0|               NULL|            NULL|          NULL|         NULL|               NULL|         NULL|\n",
      "|2015|    1|  1|          4|     DL|         1670|     N806DN|           PDX|                MSP|                 50|            45|             -5|       9|        54|           193|         186|     171|    1426|      545|      6|              603|         551|          -12|       0|        0|               NULL|            NULL|          NULL|         NULL|               NULL|         NULL|\n",
      "+----+-----+---+-----------+-------+-------------+-----------+--------------+-------------------+-------------------+--------------+---------------+--------+----------+--------------+------------+--------+--------+---------+-------+-----------------+------------+-------------+--------+---------+-------------------+----------------+--------------+-------------+-------------------+-------------+\n",
      "only showing top 20 rows\n",
      "\n"
     ]
    }
   ],
   "source": [
    "#Cambiamos el tipo de 'YEAR' de IntengerType() -> \"String\"\n",
    "from pyspark.sql.functions import col\n",
    "df_flight_prueba.withColumn(\"YEAR\", col(\"YEAR\").cast(\"String\")).show()"
   ]
  },
  {
   "cell_type": "code",
   "execution_count": 24,
   "metadata": {},
   "outputs": [
    {
     "name": "stdout",
     "output_type": "stream",
     "text": [
      "+----+-----+---+-----------+-------+-------------+-----------+--------------+-------------------+-------------------+--------------+---------------+--------+----------+--------------+------------+--------+--------+---------+-------+-----------------+------------+-------------+--------+---------+-------------------+----------------+--------------+-------------+-------------------+-------------+\n",
      "|YEAR|MONTH|DAY|DAY_OF_WEEK|AIRLINE|FLIGHT_NUMBER|TAIL_NUMBER|ORIGIN_AIRPORT|DESTINATION_AIRPORT|SCHEDULED_DEPARTURE|DEPARTURE_TIME|DEPARTURE_DELAY|TAXI_OUT|WHEELS_OFF|SCHEDULED_TIME|ELAPSED_TIME|AIR_TIME|DISTANCE|WHEELS_ON|TAXI_IN|SCHEDULED_ARRIVAL|ARRIVAL_TIME|ARRIVAL_DELAY|DIVERTED|CANCELLED|CANCELLATION_REASON|AIR_SYSTEM_DELAY|SECURITY_DELAY|AIRLINE_DELAY|LATE_AIRCRAFT_DELAY|WEATHER_DELAY|\n",
      "+----+-----+---+-----------+-------+-------------+-----------+--------------+-------------------+-------------------+--------------+---------------+--------+----------+--------------+------------+--------+--------+---------+-------+-----------------+------------+-------------+--------+---------+-------------------+----------------+--------------+-------------+-------------------+-------------+\n",
      "|2016|    1|  1|          4|     AS|           98|     N407AS|           ANC|                SEA|                  5|          2354|            -11|      21|        15|           205|         194|     169|    1448|      404|      4|              430|         408|          -22|       0|        0|               NULL|            NULL|          NULL|         NULL|               NULL|         NULL|\n",
      "|2016|    1|  1|          4|     AA|         2336|     N3KUAA|           LAX|                PBI|                 10|             2|             -8|      12|        14|           280|         279|     263|    2330|      737|      4|              750|         741|           -9|       0|        0|               NULL|            NULL|          NULL|         NULL|               NULL|         NULL|\n",
      "|2016|    1|  1|          4|     US|          840|     N171US|           SFO|                CLT|                 20|            18|             -2|      16|        34|           286|         293|     266|    2296|      800|     11|              806|         811|            5|       0|        0|               NULL|            NULL|          NULL|         NULL|               NULL|         NULL|\n",
      "|2016|    1|  1|          4|     AA|          258|     N3HYAA|           LAX|                MIA|                 20|            15|             -5|      15|        30|           285|         281|     258|    2342|      748|      8|              805|         756|           -9|       0|        0|               NULL|            NULL|          NULL|         NULL|               NULL|         NULL|\n",
      "|2016|    1|  1|          4|     AS|          135|     N527AS|           SEA|                ANC|                 25|            24|             -1|      11|        35|           235|         215|     199|    1448|      254|      5|              320|         259|          -21|       0|        0|               NULL|            NULL|          NULL|         NULL|               NULL|         NULL|\n",
      "|2016|    1|  1|          4|     DL|          806|     N3730B|           SFO|                MSP|                 25|            20|             -5|      18|        38|           217|         230|     206|    1589|      604|      6|              602|         610|            8|       0|        0|               NULL|            NULL|          NULL|         NULL|               NULL|         NULL|\n",
      "|2016|    1|  1|          4|     NK|          612|     N635NK|           LAS|                MSP|                 25|            19|             -6|      11|        30|           181|         170|     154|    1299|      504|      5|              526|         509|          -17|       0|        0|               NULL|            NULL|          NULL|         NULL|               NULL|         NULL|\n",
      "|2016|    1|  1|          4|     US|         2013|     N584UW|           LAX|                CLT|                 30|            44|             14|      13|        57|           273|         249|     228|    2125|      745|      8|              803|         753|          -10|       0|        0|               NULL|            NULL|          NULL|         NULL|               NULL|         NULL|\n",
      "|2016|    1|  1|          4|     AA|         1112|     N3LAAA|           SFO|                DFW|                 30|            19|            -11|      17|        36|           195|         193|     173|    1464|      529|      3|              545|         532|          -13|       0|        0|               NULL|            NULL|          NULL|         NULL|               NULL|         NULL|\n",
      "|2016|    1|  1|          4|     DL|         1173|     N826DN|           LAS|                ATL|                 30|            33|              3|      12|        45|           221|         203|     186|    1747|      651|      5|              711|         656|          -15|       0|        0|               NULL|            NULL|          NULL|         NULL|               NULL|         NULL|\n",
      "|2016|    1|  1|          4|     DL|         2336|     N958DN|           DEN|                ATL|                 30|            24|             -6|      12|        36|           173|         149|     133|    1199|      449|      4|              523|         453|          -30|       0|        0|               NULL|            NULL|          NULL|         NULL|               NULL|         NULL|\n",
      "|2016|    1|  1|          4|     AA|         1674|     N853AA|           LAS|                MIA|                 35|            27|             -8|      21|        48|           268|         266|     238|    2174|      746|      7|              803|         753|          -10|       0|        0|               NULL|            NULL|          NULL|         NULL|               NULL|         NULL|\n",
      "|2016|    1|  1|          4|     DL|         1434|     N547US|           LAX|                MSP|                 35|            35|              0|      18|        53|           214|         210|     188|    1535|      601|      4|              609|         605|           -4|       0|        0|               NULL|            NULL|          NULL|         NULL|               NULL|         NULL|\n",
      "|2016|    1|  1|          4|     DL|         2324|     N3751B|           SLC|                ATL|                 40|            34|             -6|      18|        52|           215|         199|     176|    1590|      548|      5|              615|         553|          -22|       0|        0|               NULL|            NULL|          NULL|         NULL|               NULL|         NULL|\n",
      "|2016|    1|  1|          4|     DL|         2440|     N651DL|           SEA|                MSP|                 40|            39|             -1|      28|       107|           189|         198|     166|    1399|      553|      4|              549|         557|            8|       0|        0|               NULL|            NULL|          NULL|         NULL|               NULL|         NULL|\n",
      "|2016|    1|  1|          4|     AS|          108|     N309AS|           ANC|                SEA|                 45|            41|             -4|      17|        58|           204|         194|     173|    1448|      451|      4|              509|         455|          -14|       0|        0|               NULL|            NULL|          NULL|         NULL|               NULL|         NULL|\n",
      "|2016|    1|  1|          4|     DL|         1560|     N3743H|           ANC|                SEA|                 45|            31|            -14|      25|        56|           210|         200|     171|    1448|      447|      4|              515|         451|          -24|       0|        0|               NULL|            NULL|          NULL|         NULL|               NULL|         NULL|\n",
      "|2016|    1|  1|          4|     UA|         1197|     N78448|           SFO|                IAH|                 48|            42|             -6|      11|        53|           218|         217|     199|    1635|      612|      7|              626|         619|           -7|       0|        0|               NULL|            NULL|          NULL|         NULL|               NULL|         NULL|\n",
      "|2016|    1|  1|          4|     AS|          122|     N413AS|           ANC|                PDX|                 50|            46|             -4|      11|        57|           215|         201|     187|    1542|      504|      3|              525|         507|          -18|       0|        0|               NULL|            NULL|          NULL|         NULL|               NULL|         NULL|\n",
      "|2016|    1|  1|          4|     DL|         1670|     N806DN|           PDX|                MSP|                 50|            45|             -5|       9|        54|           193|         186|     171|    1426|      545|      6|              603|         551|          -12|       0|        0|               NULL|            NULL|          NULL|         NULL|               NULL|         NULL|\n",
      "+----+-----+---+-----------+-------+-------------+-----------+--------------+-------------------+-------------------+--------------+---------------+--------+----------+--------------+------------+--------+--------+---------+-------+-----------------+------------+-------------+--------+---------+-------------------+----------------+--------------+-------------+-------------------+-------------+\n",
      "only showing top 20 rows\n",
      "\n"
     ]
    }
   ],
   "source": [
    "#Incrementamos en 1 el año. .withColumn no guarda datos!!\n",
    "df_flight_prueba.withColumn(\"YEAR\",col(\"YEAR\") + 1).show()"
   ]
  },
  {
   "cell_type": "code",
   "execution_count": 25,
   "metadata": {},
   "outputs": [
    {
     "data": {
      "text/plain": [
       "StructType([StructField('YEAR', IntegerType(), True), StructField('MONTH', IntegerType(), True), StructField('DAY', IntegerType(), True), StructField('DAY_OF_WEEK', IntegerType(), True), StructField('AIRLINE', StringType(), True), StructField('FLIGHT_NUMBER', IntegerType(), True), StructField('TAIL_NUMBER', StringType(), True), StructField('ORIGIN_AIRPORT', StringType(), True), StructField('DESTINATION_AIRPORT', StringType(), True), StructField('SCHEDULED_DEPARTURE', IntegerType(), True), StructField('DEPARTURE_TIME', IntegerType(), True), StructField('DEPARTURE_DELAY', IntegerType(), True), StructField('TAXI_OUT', IntegerType(), True), StructField('WHEELS_OFF', IntegerType(), True), StructField('SCHEDULED_TIME', IntegerType(), True), StructField('ELAPSED_TIME', IntegerType(), True), StructField('AIR_TIME', IntegerType(), True), StructField('DISTANCE', IntegerType(), True), StructField('WHEELS_ON', IntegerType(), True), StructField('TAXI_IN', IntegerType(), True), StructField('SCHEDULED_ARRIVAL', IntegerType(), True), StructField('ARRIVAL_TIME', IntegerType(), True), StructField('ARRIVAL_DELAY', IntegerType(), True), StructField('DIVERTED', IntegerType(), True), StructField('CANCELLED', IntegerType(), True), StructField('CANCELLATION_REASON', StringType(), True), StructField('AIR_SYSTEM_DELAY', IntegerType(), True), StructField('SECURITY_DELAY', IntegerType(), True), StructField('AIRLINE_DELAY', IntegerType(), True), StructField('LATE_AIRCRAFT_DELAY', IntegerType(), True), StructField('WEATHER_DELAY', IntegerType(), True)])"
      ]
     },
     "execution_count": 25,
     "metadata": {},
     "output_type": "execute_result"
    }
   ],
   "source": [
    "df_flight_prueba.schema\n",
    "#Comprobamos que no se han guardado los cambios."
   ]
  },
  {
   "cell_type": "code",
   "execution_count": 30,
   "metadata": {},
   "outputs": [
    {
     "name": "stdout",
     "output_type": "stream",
     "text": [
      "+----+-----+---+-----------+-------+-------------+-----------+--------------+-------------------+-------------------+--------------+---------------+--------+----------+--------------+------------+--------+--------+---------+-------+-----------------+------------+-------------+--------+---------+-------------------+----------------+--------------+-------------+-------------------+-------------+\n",
      "|YEAR|MONTH|DAY|DAY_OF_WEEK|AIRLINE|FLIGHT_NUMBER|TAIL_NUMBER|ORIGIN_AIRPORT|DESTINATION_AIRPORT|SCHEDULED_DEPARTURE|DEPARTURE_TIME|DEPARTURE_DELAY|TAXI_OUT|WHEELS_OFF|SCHEDULED_TIME|ELAPSED_TIME|AIR_TIME|DISTANCE|WHEELS_ON|TAXI_IN|SCHEDULED_ARRIVAL|ARRIVAL_TIME|ARRIVAL_DELAY|DIVERTED|CANCELLED|CANCELLATION_REASON|AIR_SYSTEM_DELAY|SECURITY_DELAY|AIRLINE_DELAY|LATE_AIRCRAFT_DELAY|WEATHER_DELAY|\n",
      "+----+-----+---+-----------+-------+-------------+-----------+--------------+-------------------+-------------------+--------------+---------------+--------+----------+--------------+------------+--------+--------+---------+-------+-----------------+------------+-------------+--------+---------+-------------------+----------------+--------------+-------------+-------------------+-------------+\n",
      "|   2|    1|  1|          4|     AS|           98|     N407AS|           ANC|                SEA|                  5|          2354|            -11|      21|        15|           205|         194|     169|    1448|      404|      4|              430|         408|          -22|       0|        0|               NULL|            NULL|          NULL|         NULL|               NULL|         NULL|\n",
      "|   2|    1|  1|          4|     AA|         2336|     N3KUAA|           LAX|                PBI|                 10|             2|             -8|      12|        14|           280|         279|     263|    2330|      737|      4|              750|         741|           -9|       0|        0|               NULL|            NULL|          NULL|         NULL|               NULL|         NULL|\n",
      "|   2|    1|  1|          4|     US|          840|     N171US|           SFO|                CLT|                 20|            18|             -2|      16|        34|           286|         293|     266|    2296|      800|     11|              806|         811|            5|       0|        0|               NULL|            NULL|          NULL|         NULL|               NULL|         NULL|\n",
      "|   2|    1|  1|          4|     AA|          258|     N3HYAA|           LAX|                MIA|                 20|            15|             -5|      15|        30|           285|         281|     258|    2342|      748|      8|              805|         756|           -9|       0|        0|               NULL|            NULL|          NULL|         NULL|               NULL|         NULL|\n",
      "|   2|    1|  1|          4|     AS|          135|     N527AS|           SEA|                ANC|                 25|            24|             -1|      11|        35|           235|         215|     199|    1448|      254|      5|              320|         259|          -21|       0|        0|               NULL|            NULL|          NULL|         NULL|               NULL|         NULL|\n",
      "|   2|    1|  1|          4|     DL|          806|     N3730B|           SFO|                MSP|                 25|            20|             -5|      18|        38|           217|         230|     206|    1589|      604|      6|              602|         610|            8|       0|        0|               NULL|            NULL|          NULL|         NULL|               NULL|         NULL|\n",
      "|   2|    1|  1|          4|     NK|          612|     N635NK|           LAS|                MSP|                 25|            19|             -6|      11|        30|           181|         170|     154|    1299|      504|      5|              526|         509|          -17|       0|        0|               NULL|            NULL|          NULL|         NULL|               NULL|         NULL|\n",
      "|   2|    1|  1|          4|     US|         2013|     N584UW|           LAX|                CLT|                 30|            44|             14|      13|        57|           273|         249|     228|    2125|      745|      8|              803|         753|          -10|       0|        0|               NULL|            NULL|          NULL|         NULL|               NULL|         NULL|\n",
      "|   2|    1|  1|          4|     AA|         1112|     N3LAAA|           SFO|                DFW|                 30|            19|            -11|      17|        36|           195|         193|     173|    1464|      529|      3|              545|         532|          -13|       0|        0|               NULL|            NULL|          NULL|         NULL|               NULL|         NULL|\n",
      "|   2|    1|  1|          4|     DL|         1173|     N826DN|           LAS|                ATL|                 30|            33|              3|      12|        45|           221|         203|     186|    1747|      651|      5|              711|         656|          -15|       0|        0|               NULL|            NULL|          NULL|         NULL|               NULL|         NULL|\n",
      "|   2|    1|  1|          4|     DL|         2336|     N958DN|           DEN|                ATL|                 30|            24|             -6|      12|        36|           173|         149|     133|    1199|      449|      4|              523|         453|          -30|       0|        0|               NULL|            NULL|          NULL|         NULL|               NULL|         NULL|\n",
      "|   2|    1|  1|          4|     AA|         1674|     N853AA|           LAS|                MIA|                 35|            27|             -8|      21|        48|           268|         266|     238|    2174|      746|      7|              803|         753|          -10|       0|        0|               NULL|            NULL|          NULL|         NULL|               NULL|         NULL|\n",
      "|   2|    1|  1|          4|     DL|         1434|     N547US|           LAX|                MSP|                 35|            35|              0|      18|        53|           214|         210|     188|    1535|      601|      4|              609|         605|           -4|       0|        0|               NULL|            NULL|          NULL|         NULL|               NULL|         NULL|\n",
      "|   2|    1|  1|          4|     DL|         2324|     N3751B|           SLC|                ATL|                 40|            34|             -6|      18|        52|           215|         199|     176|    1590|      548|      5|              615|         553|          -22|       0|        0|               NULL|            NULL|          NULL|         NULL|               NULL|         NULL|\n",
      "|   2|    1|  1|          4|     DL|         2440|     N651DL|           SEA|                MSP|                 40|            39|             -1|      28|       107|           189|         198|     166|    1399|      553|      4|              549|         557|            8|       0|        0|               NULL|            NULL|          NULL|         NULL|               NULL|         NULL|\n",
      "|   2|    1|  1|          4|     AS|          108|     N309AS|           ANC|                SEA|                 45|            41|             -4|      17|        58|           204|         194|     173|    1448|      451|      4|              509|         455|          -14|       0|        0|               NULL|            NULL|          NULL|         NULL|               NULL|         NULL|\n",
      "|   2|    1|  1|          4|     DL|         1560|     N3743H|           ANC|                SEA|                 45|            31|            -14|      25|        56|           210|         200|     171|    1448|      447|      4|              515|         451|          -24|       0|        0|               NULL|            NULL|          NULL|         NULL|               NULL|         NULL|\n",
      "|   2|    1|  1|          4|     UA|         1197|     N78448|           SFO|                IAH|                 48|            42|             -6|      11|        53|           218|         217|     199|    1635|      612|      7|              626|         619|           -7|       0|        0|               NULL|            NULL|          NULL|         NULL|               NULL|         NULL|\n",
      "|   2|    1|  1|          4|     AS|          122|     N413AS|           ANC|                PDX|                 50|            46|             -4|      11|        57|           215|         201|     187|    1542|      504|      3|              525|         507|          -18|       0|        0|               NULL|            NULL|          NULL|         NULL|               NULL|         NULL|\n",
      "|   2|    1|  1|          4|     DL|         1670|     N806DN|           PDX|                MSP|                 50|            45|             -5|       9|        54|           193|         186|     171|    1426|      545|      6|              603|         551|          -12|       0|        0|               NULL|            NULL|          NULL|         NULL|               NULL|         NULL|\n",
      "+----+-----+---+-----------+-------+-------------+-----------+--------------+-------------------+-------------------+--------------+---------------+--------+----------+--------------+------------+--------+--------+---------+-------+-----------------+------------+-------------+--------+---------+-------------------+----------------+--------------+-------------+-------------------+-------------+\n",
      "only showing top 20 rows\n",
      "\n"
     ]
    }
   ],
   "source": [
    "df_flight_prueba.withColumn(\"YEAR\",col(\"MONTH\") + 1).show()"
   ]
  },
  {
   "cell_type": "code",
   "execution_count": 31,
   "metadata": {},
   "outputs": [
    {
     "name": "stdout",
     "output_type": "stream",
     "text": [
      "+----+-----+---+-----------+-------+-------------+-----------+--------------+-------------------+-------------------+--------------+---------------+--------+----------+--------------+------------+--------+--------+---------+-------+-----------------+------------+-------------+--------+---------+-------------------+----------------+--------------+-------------+-------------------+-------------+--------+\n",
      "|YEAR|MONTH|DAY|DAY_OF_WEEK|AIRLINE|FLIGHT_NUMBER|TAIL_NUMBER|ORIGIN_AIRPORT|DESTINATION_AIRPORT|SCHEDULED_DEPARTURE|DEPARTURE_TIME|DEPARTURE_DELAY|TAXI_OUT|WHEELS_OFF|SCHEDULED_TIME|ELAPSED_TIME|AIR_TIME|DISTANCE|WHEELS_ON|TAXI_IN|SCHEDULED_ARRIVAL|ARRIVAL_TIME|ARRIVAL_DELAY|DIVERTED|CANCELLED|CANCELLATION_REASON|AIR_SYSTEM_DELAY|SECURITY_DELAY|AIRLINE_DELAY|LATE_AIRCRAFT_DELAY|WEATHER_DELAY|NuevoAño|\n",
      "+----+-----+---+-----------+-------+-------------+-----------+--------------+-------------------+-------------------+--------------+---------------+--------+----------+--------------+------------+--------+--------+---------+-------+-----------------+------------+-------------+--------+---------+-------------------+----------------+--------------+-------------+-------------------+-------------+--------+\n",
      "|2015|    1|  1|          4|     AS|           98|     N407AS|           ANC|                SEA|                  5|          2354|            -11|      21|        15|           205|         194|     169|    1448|      404|      4|              430|         408|          -22|       0|        0|               NULL|            NULL|          NULL|         NULL|               NULL|         NULL|    2016|\n",
      "|2015|    1|  1|          4|     AA|         2336|     N3KUAA|           LAX|                PBI|                 10|             2|             -8|      12|        14|           280|         279|     263|    2330|      737|      4|              750|         741|           -9|       0|        0|               NULL|            NULL|          NULL|         NULL|               NULL|         NULL|    2016|\n",
      "|2015|    1|  1|          4|     US|          840|     N171US|           SFO|                CLT|                 20|            18|             -2|      16|        34|           286|         293|     266|    2296|      800|     11|              806|         811|            5|       0|        0|               NULL|            NULL|          NULL|         NULL|               NULL|         NULL|    2016|\n",
      "|2015|    1|  1|          4|     AA|          258|     N3HYAA|           LAX|                MIA|                 20|            15|             -5|      15|        30|           285|         281|     258|    2342|      748|      8|              805|         756|           -9|       0|        0|               NULL|            NULL|          NULL|         NULL|               NULL|         NULL|    2016|\n",
      "|2015|    1|  1|          4|     AS|          135|     N527AS|           SEA|                ANC|                 25|            24|             -1|      11|        35|           235|         215|     199|    1448|      254|      5|              320|         259|          -21|       0|        0|               NULL|            NULL|          NULL|         NULL|               NULL|         NULL|    2016|\n",
      "|2015|    1|  1|          4|     DL|          806|     N3730B|           SFO|                MSP|                 25|            20|             -5|      18|        38|           217|         230|     206|    1589|      604|      6|              602|         610|            8|       0|        0|               NULL|            NULL|          NULL|         NULL|               NULL|         NULL|    2016|\n",
      "|2015|    1|  1|          4|     NK|          612|     N635NK|           LAS|                MSP|                 25|            19|             -6|      11|        30|           181|         170|     154|    1299|      504|      5|              526|         509|          -17|       0|        0|               NULL|            NULL|          NULL|         NULL|               NULL|         NULL|    2016|\n",
      "|2015|    1|  1|          4|     US|         2013|     N584UW|           LAX|                CLT|                 30|            44|             14|      13|        57|           273|         249|     228|    2125|      745|      8|              803|         753|          -10|       0|        0|               NULL|            NULL|          NULL|         NULL|               NULL|         NULL|    2016|\n",
      "|2015|    1|  1|          4|     AA|         1112|     N3LAAA|           SFO|                DFW|                 30|            19|            -11|      17|        36|           195|         193|     173|    1464|      529|      3|              545|         532|          -13|       0|        0|               NULL|            NULL|          NULL|         NULL|               NULL|         NULL|    2016|\n",
      "|2015|    1|  1|          4|     DL|         1173|     N826DN|           LAS|                ATL|                 30|            33|              3|      12|        45|           221|         203|     186|    1747|      651|      5|              711|         656|          -15|       0|        0|               NULL|            NULL|          NULL|         NULL|               NULL|         NULL|    2016|\n",
      "|2015|    1|  1|          4|     DL|         2336|     N958DN|           DEN|                ATL|                 30|            24|             -6|      12|        36|           173|         149|     133|    1199|      449|      4|              523|         453|          -30|       0|        0|               NULL|            NULL|          NULL|         NULL|               NULL|         NULL|    2016|\n",
      "|2015|    1|  1|          4|     AA|         1674|     N853AA|           LAS|                MIA|                 35|            27|             -8|      21|        48|           268|         266|     238|    2174|      746|      7|              803|         753|          -10|       0|        0|               NULL|            NULL|          NULL|         NULL|               NULL|         NULL|    2016|\n",
      "|2015|    1|  1|          4|     DL|         1434|     N547US|           LAX|                MSP|                 35|            35|              0|      18|        53|           214|         210|     188|    1535|      601|      4|              609|         605|           -4|       0|        0|               NULL|            NULL|          NULL|         NULL|               NULL|         NULL|    2016|\n",
      "|2015|    1|  1|          4|     DL|         2324|     N3751B|           SLC|                ATL|                 40|            34|             -6|      18|        52|           215|         199|     176|    1590|      548|      5|              615|         553|          -22|       0|        0|               NULL|            NULL|          NULL|         NULL|               NULL|         NULL|    2016|\n",
      "|2015|    1|  1|          4|     DL|         2440|     N651DL|           SEA|                MSP|                 40|            39|             -1|      28|       107|           189|         198|     166|    1399|      553|      4|              549|         557|            8|       0|        0|               NULL|            NULL|          NULL|         NULL|               NULL|         NULL|    2016|\n",
      "|2015|    1|  1|          4|     AS|          108|     N309AS|           ANC|                SEA|                 45|            41|             -4|      17|        58|           204|         194|     173|    1448|      451|      4|              509|         455|          -14|       0|        0|               NULL|            NULL|          NULL|         NULL|               NULL|         NULL|    2016|\n",
      "|2015|    1|  1|          4|     DL|         1560|     N3743H|           ANC|                SEA|                 45|            31|            -14|      25|        56|           210|         200|     171|    1448|      447|      4|              515|         451|          -24|       0|        0|               NULL|            NULL|          NULL|         NULL|               NULL|         NULL|    2016|\n",
      "|2015|    1|  1|          4|     UA|         1197|     N78448|           SFO|                IAH|                 48|            42|             -6|      11|        53|           218|         217|     199|    1635|      612|      7|              626|         619|           -7|       0|        0|               NULL|            NULL|          NULL|         NULL|               NULL|         NULL|    2016|\n",
      "|2015|    1|  1|          4|     AS|          122|     N413AS|           ANC|                PDX|                 50|            46|             -4|      11|        57|           215|         201|     187|    1542|      504|      3|              525|         507|          -18|       0|        0|               NULL|            NULL|          NULL|         NULL|               NULL|         NULL|    2016|\n",
      "|2015|    1|  1|          4|     DL|         1670|     N806DN|           PDX|                MSP|                 50|            45|             -5|       9|        54|           193|         186|     171|    1426|      545|      6|              603|         551|          -12|       0|        0|               NULL|            NULL|          NULL|         NULL|               NULL|         NULL|    2016|\n",
      "+----+-----+---+-----------+-------+-------------+-----------+--------------+-------------------+-------------------+--------------+---------------+--------+----------+--------------+------------+--------+--------+---------+-------+-----------------+------------+-------------+--------+---------+-------------------+----------------+--------------+-------------+-------------------+-------------+--------+\n",
      "only showing top 20 rows\n",
      "\n"
     ]
    }
   ],
   "source": [
    "#Creamos una nueva columna\n",
    "df_flight_prueba.withColumn(\"NuevoAño\",col(\"YEAR\") + 1).show()"
   ]
  },
  {
   "cell_type": "code",
   "execution_count": 32,
   "metadata": {},
   "outputs": [
    {
     "name": "stdout",
     "output_type": "stream",
     "text": [
      "+----+-----+---+-----------+-------+-------------+-----------+--------------+-------------------+-------------------+--------------+---------------+--------+----------+--------------+------------+--------+--------+---------+-------+-----------------+------------+-------------+--------+---------+-------------------+----------------+--------------+-------------+-------------------+-------------+\n",
      "| Año|MONTH|DAY|DAY_OF_WEEK|AIRLINE|FLIGHT_NUMBER|TAIL_NUMBER|ORIGIN_AIRPORT|DESTINATION_AIRPORT|SCHEDULED_DEPARTURE|DEPARTURE_TIME|DEPARTURE_DELAY|TAXI_OUT|WHEELS_OFF|SCHEDULED_TIME|ELAPSED_TIME|AIR_TIME|DISTANCE|WHEELS_ON|TAXI_IN|SCHEDULED_ARRIVAL|ARRIVAL_TIME|ARRIVAL_DELAY|DIVERTED|CANCELLED|CANCELLATION_REASON|AIR_SYSTEM_DELAY|SECURITY_DELAY|AIRLINE_DELAY|LATE_AIRCRAFT_DELAY|WEATHER_DELAY|\n",
      "+----+-----+---+-----------+-------+-------------+-----------+--------------+-------------------+-------------------+--------------+---------------+--------+----------+--------------+------------+--------+--------+---------+-------+-----------------+------------+-------------+--------+---------+-------------------+----------------+--------------+-------------+-------------------+-------------+\n",
      "|2015|    1|  1|          4|     AS|           98|     N407AS|           ANC|                SEA|                  5|          2354|            -11|      21|        15|           205|         194|     169|    1448|      404|      4|              430|         408|          -22|       0|        0|               NULL|            NULL|          NULL|         NULL|               NULL|         NULL|\n",
      "|2015|    1|  1|          4|     AA|         2336|     N3KUAA|           LAX|                PBI|                 10|             2|             -8|      12|        14|           280|         279|     263|    2330|      737|      4|              750|         741|           -9|       0|        0|               NULL|            NULL|          NULL|         NULL|               NULL|         NULL|\n",
      "|2015|    1|  1|          4|     US|          840|     N171US|           SFO|                CLT|                 20|            18|             -2|      16|        34|           286|         293|     266|    2296|      800|     11|              806|         811|            5|       0|        0|               NULL|            NULL|          NULL|         NULL|               NULL|         NULL|\n",
      "|2015|    1|  1|          4|     AA|          258|     N3HYAA|           LAX|                MIA|                 20|            15|             -5|      15|        30|           285|         281|     258|    2342|      748|      8|              805|         756|           -9|       0|        0|               NULL|            NULL|          NULL|         NULL|               NULL|         NULL|\n",
      "|2015|    1|  1|          4|     AS|          135|     N527AS|           SEA|                ANC|                 25|            24|             -1|      11|        35|           235|         215|     199|    1448|      254|      5|              320|         259|          -21|       0|        0|               NULL|            NULL|          NULL|         NULL|               NULL|         NULL|\n",
      "|2015|    1|  1|          4|     DL|          806|     N3730B|           SFO|                MSP|                 25|            20|             -5|      18|        38|           217|         230|     206|    1589|      604|      6|              602|         610|            8|       0|        0|               NULL|            NULL|          NULL|         NULL|               NULL|         NULL|\n",
      "|2015|    1|  1|          4|     NK|          612|     N635NK|           LAS|                MSP|                 25|            19|             -6|      11|        30|           181|         170|     154|    1299|      504|      5|              526|         509|          -17|       0|        0|               NULL|            NULL|          NULL|         NULL|               NULL|         NULL|\n",
      "|2015|    1|  1|          4|     US|         2013|     N584UW|           LAX|                CLT|                 30|            44|             14|      13|        57|           273|         249|     228|    2125|      745|      8|              803|         753|          -10|       0|        0|               NULL|            NULL|          NULL|         NULL|               NULL|         NULL|\n",
      "|2015|    1|  1|          4|     AA|         1112|     N3LAAA|           SFO|                DFW|                 30|            19|            -11|      17|        36|           195|         193|     173|    1464|      529|      3|              545|         532|          -13|       0|        0|               NULL|            NULL|          NULL|         NULL|               NULL|         NULL|\n",
      "|2015|    1|  1|          4|     DL|         1173|     N826DN|           LAS|                ATL|                 30|            33|              3|      12|        45|           221|         203|     186|    1747|      651|      5|              711|         656|          -15|       0|        0|               NULL|            NULL|          NULL|         NULL|               NULL|         NULL|\n",
      "|2015|    1|  1|          4|     DL|         2336|     N958DN|           DEN|                ATL|                 30|            24|             -6|      12|        36|           173|         149|     133|    1199|      449|      4|              523|         453|          -30|       0|        0|               NULL|            NULL|          NULL|         NULL|               NULL|         NULL|\n",
      "|2015|    1|  1|          4|     AA|         1674|     N853AA|           LAS|                MIA|                 35|            27|             -8|      21|        48|           268|         266|     238|    2174|      746|      7|              803|         753|          -10|       0|        0|               NULL|            NULL|          NULL|         NULL|               NULL|         NULL|\n",
      "|2015|    1|  1|          4|     DL|         1434|     N547US|           LAX|                MSP|                 35|            35|              0|      18|        53|           214|         210|     188|    1535|      601|      4|              609|         605|           -4|       0|        0|               NULL|            NULL|          NULL|         NULL|               NULL|         NULL|\n",
      "|2015|    1|  1|          4|     DL|         2324|     N3751B|           SLC|                ATL|                 40|            34|             -6|      18|        52|           215|         199|     176|    1590|      548|      5|              615|         553|          -22|       0|        0|               NULL|            NULL|          NULL|         NULL|               NULL|         NULL|\n",
      "|2015|    1|  1|          4|     DL|         2440|     N651DL|           SEA|                MSP|                 40|            39|             -1|      28|       107|           189|         198|     166|    1399|      553|      4|              549|         557|            8|       0|        0|               NULL|            NULL|          NULL|         NULL|               NULL|         NULL|\n",
      "|2015|    1|  1|          4|     AS|          108|     N309AS|           ANC|                SEA|                 45|            41|             -4|      17|        58|           204|         194|     173|    1448|      451|      4|              509|         455|          -14|       0|        0|               NULL|            NULL|          NULL|         NULL|               NULL|         NULL|\n",
      "|2015|    1|  1|          4|     DL|         1560|     N3743H|           ANC|                SEA|                 45|            31|            -14|      25|        56|           210|         200|     171|    1448|      447|      4|              515|         451|          -24|       0|        0|               NULL|            NULL|          NULL|         NULL|               NULL|         NULL|\n",
      "|2015|    1|  1|          4|     UA|         1197|     N78448|           SFO|                IAH|                 48|            42|             -6|      11|        53|           218|         217|     199|    1635|      612|      7|              626|         619|           -7|       0|        0|               NULL|            NULL|          NULL|         NULL|               NULL|         NULL|\n",
      "|2015|    1|  1|          4|     AS|          122|     N413AS|           ANC|                PDX|                 50|            46|             -4|      11|        57|           215|         201|     187|    1542|      504|      3|              525|         507|          -18|       0|        0|               NULL|            NULL|          NULL|         NULL|               NULL|         NULL|\n",
      "|2015|    1|  1|          4|     DL|         1670|     N806DN|           PDX|                MSP|                 50|            45|             -5|       9|        54|           193|         186|     171|    1426|      545|      6|              603|         551|          -12|       0|        0|               NULL|            NULL|          NULL|         NULL|               NULL|         NULL|\n",
      "+----+-----+---+-----------+-------+-------------+-----------+--------------+-------------------+-------------------+--------------+---------------+--------+----------+--------------+------------+--------+--------+---------+-------+-----------------+------------+-------------+--------+---------+-------------------+----------------+--------------+-------------+-------------------+-------------+\n",
      "only showing top 20 rows\n",
      "\n"
     ]
    }
   ],
   "source": [
    "#Renombramos una columna nueva\n",
    "df_flight_prueba.withColumnRenamed(\"YEAR\", \"Año\").show()"
   ]
  },
  {
   "cell_type": "code",
   "execution_count": 33,
   "metadata": {},
   "outputs": [
    {
     "data": {
      "text/plain": [
       "DataFrame[MONTH: int, DAY: int, DAY_OF_WEEK: int, AIRLINE: string, FLIGHT_NUMBER: int, TAIL_NUMBER: string, ORIGIN_AIRPORT: string, DESTINATION_AIRPORT: string, SCHEDULED_DEPARTURE: int, DEPARTURE_TIME: int, DEPARTURE_DELAY: int, TAXI_OUT: int, WHEELS_OFF: int, SCHEDULED_TIME: int, ELAPSED_TIME: int, AIR_TIME: int, DISTANCE: int, WHEELS_ON: int, TAXI_IN: int, SCHEDULED_ARRIVAL: int, ARRIVAL_TIME: int, ARRIVAL_DELAY: int, DIVERTED: int, CANCELLED: int, CANCELLATION_REASON: string, AIR_SYSTEM_DELAY: int, SECURITY_DELAY: int, AIRLINE_DELAY: int, LATE_AIRCRAFT_DELAY: int, WEATHER_DELAY: int]"
      ]
     },
     "execution_count": 33,
     "metadata": {},
     "output_type": "execute_result"
    }
   ],
   "source": [
    "#borramos la columna \"YEAR\"\n",
    "df_flight_prueba.drop(\"YEAR\")"
   ]
  },
  {
   "cell_type": "code",
   "execution_count": 34,
   "metadata": {},
   "outputs": [
    {
     "name": "stdout",
     "output_type": "stream",
     "text": [
      "+----+-----+---+-----------+-------+-------------+-----------+--------------+-------------------+-------------------+--------------+---------------+--------+----------+--------------+------------+--------+--------+---------+-------+-----------------+------------+-------------+--------+---------+-------------------+----------------+--------------+-------------+-------------------+-------------+\n",
      "|YEAR|MONTH|DAY|DAY_OF_WEEK|AIRLINE|FLIGHT_NUMBER|TAIL_NUMBER|ORIGIN_AIRPORT|DESTINATION_AIRPORT|SCHEDULED_DEPARTURE|DEPARTURE_TIME|DEPARTURE_DELAY|TAXI_OUT|WHEELS_OFF|SCHEDULED_TIME|ELAPSED_TIME|AIR_TIME|DISTANCE|WHEELS_ON|TAXI_IN|SCHEDULED_ARRIVAL|ARRIVAL_TIME|ARRIVAL_DELAY|DIVERTED|CANCELLED|CANCELLATION_REASON|AIR_SYSTEM_DELAY|SECURITY_DELAY|AIRLINE_DELAY|LATE_AIRCRAFT_DELAY|WEATHER_DELAY|\n",
      "+----+-----+---+-----------+-------+-------------+-----------+--------------+-------------------+-------------------+--------------+---------------+--------+----------+--------------+------------+--------+--------+---------+-------+-----------------+------------+-------------+--------+---------+-------------------+----------------+--------------+-------------+-------------------+-------------+\n",
      "|2015|    1|  1|          4|     AS|           98|     N407AS|           ANC|                SEA|                  5|          2354|            -11|      21|        15|           205|         194|     169|    1448|      404|      4|              430|         408|          -22|       0|        0|               NULL|            NULL|          NULL|         NULL|               NULL|         NULL|\n",
      "|2015|    1|  1|          4|     AA|         2336|     N3KUAA|           LAX|                PBI|                 10|             2|             -8|      12|        14|           280|         279|     263|    2330|      737|      4|              750|         741|           -9|       0|        0|               NULL|            NULL|          NULL|         NULL|               NULL|         NULL|\n",
      "|2015|    1|  1|          4|     US|          840|     N171US|           SFO|                CLT|                 20|            18|             -2|      16|        34|           286|         293|     266|    2296|      800|     11|              806|         811|            5|       0|        0|               NULL|            NULL|          NULL|         NULL|               NULL|         NULL|\n",
      "|2015|    1|  1|          4|     AA|          258|     N3HYAA|           LAX|                MIA|                 20|            15|             -5|      15|        30|           285|         281|     258|    2342|      748|      8|              805|         756|           -9|       0|        0|               NULL|            NULL|          NULL|         NULL|               NULL|         NULL|\n",
      "|2015|    1|  1|          4|     AS|          135|     N527AS|           SEA|                ANC|                 25|            24|             -1|      11|        35|           235|         215|     199|    1448|      254|      5|              320|         259|          -21|       0|        0|               NULL|            NULL|          NULL|         NULL|               NULL|         NULL|\n",
      "|2015|    1|  1|          4|     DL|          806|     N3730B|           SFO|                MSP|                 25|            20|             -5|      18|        38|           217|         230|     206|    1589|      604|      6|              602|         610|            8|       0|        0|               NULL|            NULL|          NULL|         NULL|               NULL|         NULL|\n",
      "|2015|    1|  1|          4|     NK|          612|     N635NK|           LAS|                MSP|                 25|            19|             -6|      11|        30|           181|         170|     154|    1299|      504|      5|              526|         509|          -17|       0|        0|               NULL|            NULL|          NULL|         NULL|               NULL|         NULL|\n",
      "|2015|    1|  1|          4|     US|         2013|     N584UW|           LAX|                CLT|                 30|            44|             14|      13|        57|           273|         249|     228|    2125|      745|      8|              803|         753|          -10|       0|        0|               NULL|            NULL|          NULL|         NULL|               NULL|         NULL|\n",
      "|2015|    1|  1|          4|     AA|         1112|     N3LAAA|           SFO|                DFW|                 30|            19|            -11|      17|        36|           195|         193|     173|    1464|      529|      3|              545|         532|          -13|       0|        0|               NULL|            NULL|          NULL|         NULL|               NULL|         NULL|\n",
      "|2015|    1|  1|          4|     DL|         1173|     N826DN|           LAS|                ATL|                 30|            33|              3|      12|        45|           221|         203|     186|    1747|      651|      5|              711|         656|          -15|       0|        0|               NULL|            NULL|          NULL|         NULL|               NULL|         NULL|\n",
      "|2015|    1|  1|          4|     DL|         2336|     N958DN|           DEN|                ATL|                 30|            24|             -6|      12|        36|           173|         149|     133|    1199|      449|      4|              523|         453|          -30|       0|        0|               NULL|            NULL|          NULL|         NULL|               NULL|         NULL|\n",
      "|2015|    1|  1|          4|     AA|         1674|     N853AA|           LAS|                MIA|                 35|            27|             -8|      21|        48|           268|         266|     238|    2174|      746|      7|              803|         753|          -10|       0|        0|               NULL|            NULL|          NULL|         NULL|               NULL|         NULL|\n",
      "|2015|    1|  1|          4|     DL|         1434|     N547US|           LAX|                MSP|                 35|            35|              0|      18|        53|           214|         210|     188|    1535|      601|      4|              609|         605|           -4|       0|        0|               NULL|            NULL|          NULL|         NULL|               NULL|         NULL|\n",
      "|2015|    1|  1|          4|     DL|         2324|     N3751B|           SLC|                ATL|                 40|            34|             -6|      18|        52|           215|         199|     176|    1590|      548|      5|              615|         553|          -22|       0|        0|               NULL|            NULL|          NULL|         NULL|               NULL|         NULL|\n",
      "|2015|    1|  1|          4|     DL|         2440|     N651DL|           SEA|                MSP|                 40|            39|             -1|      28|       107|           189|         198|     166|    1399|      553|      4|              549|         557|            8|       0|        0|               NULL|            NULL|          NULL|         NULL|               NULL|         NULL|\n",
      "|2015|    1|  1|          4|     AS|          108|     N309AS|           ANC|                SEA|                 45|            41|             -4|      17|        58|           204|         194|     173|    1448|      451|      4|              509|         455|          -14|       0|        0|               NULL|            NULL|          NULL|         NULL|               NULL|         NULL|\n",
      "|2015|    1|  1|          4|     DL|         1560|     N3743H|           ANC|                SEA|                 45|            31|            -14|      25|        56|           210|         200|     171|    1448|      447|      4|              515|         451|          -24|       0|        0|               NULL|            NULL|          NULL|         NULL|               NULL|         NULL|\n",
      "|2015|    1|  1|          4|     UA|         1197|     N78448|           SFO|                IAH|                 48|            42|             -6|      11|        53|           218|         217|     199|    1635|      612|      7|              626|         619|           -7|       0|        0|               NULL|            NULL|          NULL|         NULL|               NULL|         NULL|\n",
      "|2015|    1|  1|          4|     AS|          122|     N413AS|           ANC|                PDX|                 50|            46|             -4|      11|        57|           215|         201|     187|    1542|      504|      3|              525|         507|          -18|       0|        0|               NULL|            NULL|          NULL|         NULL|               NULL|         NULL|\n",
      "|2015|    1|  1|          4|     DL|         1670|     N806DN|           PDX|                MSP|                 50|            45|             -5|       9|        54|           193|         186|     171|    1426|      545|      6|              603|         551|          -12|       0|        0|               NULL|            NULL|          NULL|         NULL|               NULL|         NULL|\n",
      "+----+-----+---+-----------+-------+-------------+-----------+--------------+-------------------+-------------------+--------------+---------------+--------+----------+--------------+------------+--------+--------+---------+-------+-----------------+------------+-------------+--------+---------+-------------------+----------------+--------------+-------------+-------------------+-------------+\n",
      "only showing top 20 rows\n",
      "\n"
     ]
    }
   ],
   "source": [
    "df_flight_prueba.show()\n",
    "#comprobamos que ninguna de las acciones anteriores han quedado guardadas."
   ]
  },
  {
   "cell_type": "code",
   "execution_count": 35,
   "metadata": {},
   "outputs": [
    {
     "data": {
      "text/plain": [
       "[Row(YEAR=2015, MONTH=1, DAY=1, DAY_OF_WEEK=4, AIRLINE='AA', FLIGHT_NUMBER=2336, TAIL_NUMBER='N3KUAA', ORIGIN_AIRPORT='LAX', DESTINATION_AIRPORT='PBI', SCHEDULED_DEPARTURE=10, DEPARTURE_TIME=2, DEPARTURE_DELAY=-8, TAXI_OUT=12, WHEELS_OFF=14, SCHEDULED_TIME=280, ELAPSED_TIME=279, AIR_TIME=263, DISTANCE=2330, WHEELS_ON=737, TAXI_IN=4, SCHEDULED_ARRIVAL=750, ARRIVAL_TIME=741, ARRIVAL_DELAY=-9, DIVERTED=0, CANCELLED=0, CANCELLATION_REASON=None, AIR_SYSTEM_DELAY=None, SECURITY_DELAY=None, AIRLINE_DELAY=None, LATE_AIRCRAFT_DELAY=None, WEATHER_DELAY=None),\n",
       " Row(YEAR=2015, MONTH=1, DAY=1, DAY_OF_WEEK=4, AIRLINE='AA', FLIGHT_NUMBER=258, TAIL_NUMBER='N3HYAA', ORIGIN_AIRPORT='LAX', DESTINATION_AIRPORT='MIA', SCHEDULED_DEPARTURE=20, DEPARTURE_TIME=15, DEPARTURE_DELAY=-5, TAXI_OUT=15, WHEELS_OFF=30, SCHEDULED_TIME=285, ELAPSED_TIME=281, AIR_TIME=258, DISTANCE=2342, WHEELS_ON=748, TAXI_IN=8, SCHEDULED_ARRIVAL=805, ARRIVAL_TIME=756, ARRIVAL_DELAY=-9, DIVERTED=0, CANCELLED=0, CANCELLATION_REASON=None, AIR_SYSTEM_DELAY=None, SECURITY_DELAY=None, AIRLINE_DELAY=None, LATE_AIRCRAFT_DELAY=None, WEATHER_DELAY=None),\n",
       " Row(YEAR=2015, MONTH=1, DAY=1, DAY_OF_WEEK=4, AIRLINE='US', FLIGHT_NUMBER=2013, TAIL_NUMBER='N584UW', ORIGIN_AIRPORT='LAX', DESTINATION_AIRPORT='CLT', SCHEDULED_DEPARTURE=30, DEPARTURE_TIME=44, DEPARTURE_DELAY=14, TAXI_OUT=13, WHEELS_OFF=57, SCHEDULED_TIME=273, ELAPSED_TIME=249, AIR_TIME=228, DISTANCE=2125, WHEELS_ON=745, TAXI_IN=8, SCHEDULED_ARRIVAL=803, ARRIVAL_TIME=753, ARRIVAL_DELAY=-10, DIVERTED=0, CANCELLED=0, CANCELLATION_REASON=None, AIR_SYSTEM_DELAY=None, SECURITY_DELAY=None, AIRLINE_DELAY=None, LATE_AIRCRAFT_DELAY=None, WEATHER_DELAY=None),\n",
       " Row(YEAR=2015, MONTH=1, DAY=1, DAY_OF_WEEK=4, AIRLINE='DL', FLIGHT_NUMBER=1434, TAIL_NUMBER='N547US', ORIGIN_AIRPORT='LAX', DESTINATION_AIRPORT='MSP', SCHEDULED_DEPARTURE=35, DEPARTURE_TIME=35, DEPARTURE_DELAY=0, TAXI_OUT=18, WHEELS_OFF=53, SCHEDULED_TIME=214, ELAPSED_TIME=210, AIR_TIME=188, DISTANCE=1535, WHEELS_ON=601, TAXI_IN=4, SCHEDULED_ARRIVAL=609, ARRIVAL_TIME=605, ARRIVAL_DELAY=-4, DIVERTED=0, CANCELLED=0, CANCELLATION_REASON=None, AIR_SYSTEM_DELAY=None, SECURITY_DELAY=None, AIRLINE_DELAY=None, LATE_AIRCRAFT_DELAY=None, WEATHER_DELAY=None),\n",
       " Row(YEAR=2015, MONTH=1, DAY=1, DAY_OF_WEEK=4, AIRLINE='AA', FLIGHT_NUMBER=115, TAIL_NUMBER='N3CTAA', ORIGIN_AIRPORT='LAX', DESTINATION_AIRPORT='MIA', SCHEDULED_DEPARTURE=105, DEPARTURE_TIME=103, DEPARTURE_DELAY=-2, TAXI_OUT=14, WHEELS_OFF=117, SCHEDULED_TIME=286, ELAPSED_TIME=276, AIR_TIME=255, DISTANCE=2342, WHEELS_ON=832, TAXI_IN=7, SCHEDULED_ARRIVAL=851, ARRIVAL_TIME=839, ARRIVAL_DELAY=-12, DIVERTED=0, CANCELLED=0, CANCELLATION_REASON=None, AIR_SYSTEM_DELAY=None, SECURITY_DELAY=None, AIRLINE_DELAY=None, LATE_AIRCRAFT_DELAY=None, WEATHER_DELAY=None)]"
      ]
     },
     "execution_count": 35,
     "metadata": {},
     "output_type": "execute_result"
    }
   ],
   "source": [
    "#Filtramos de varias formas \n",
    "df_flight_prueba.filter(df_flight_prueba.ORIGIN_AIRPORT == \"LAX\").take(5)"
   ]
  },
  {
   "cell_type": "code",
   "execution_count": 36,
   "metadata": {},
   "outputs": [
    {
     "data": {
      "text/plain": [
       "[Row(YEAR=2015, MONTH=1, DAY=1, DAY_OF_WEEK=4, AIRLINE='AA', FLIGHT_NUMBER=2336, TAIL_NUMBER='N3KUAA', ORIGIN_AIRPORT='LAX', DESTINATION_AIRPORT='PBI', SCHEDULED_DEPARTURE=10, DEPARTURE_TIME=2, DEPARTURE_DELAY=-8, TAXI_OUT=12, WHEELS_OFF=14, SCHEDULED_TIME=280, ELAPSED_TIME=279, AIR_TIME=263, DISTANCE=2330, WHEELS_ON=737, TAXI_IN=4, SCHEDULED_ARRIVAL=750, ARRIVAL_TIME=741, ARRIVAL_DELAY=-9, DIVERTED=0, CANCELLED=0, CANCELLATION_REASON=None, AIR_SYSTEM_DELAY=None, SECURITY_DELAY=None, AIRLINE_DELAY=None, LATE_AIRCRAFT_DELAY=None, WEATHER_DELAY=None),\n",
       " Row(YEAR=2015, MONTH=1, DAY=1, DAY_OF_WEEK=4, AIRLINE='AA', FLIGHT_NUMBER=258, TAIL_NUMBER='N3HYAA', ORIGIN_AIRPORT='LAX', DESTINATION_AIRPORT='MIA', SCHEDULED_DEPARTURE=20, DEPARTURE_TIME=15, DEPARTURE_DELAY=-5, TAXI_OUT=15, WHEELS_OFF=30, SCHEDULED_TIME=285, ELAPSED_TIME=281, AIR_TIME=258, DISTANCE=2342, WHEELS_ON=748, TAXI_IN=8, SCHEDULED_ARRIVAL=805, ARRIVAL_TIME=756, ARRIVAL_DELAY=-9, DIVERTED=0, CANCELLED=0, CANCELLATION_REASON=None, AIR_SYSTEM_DELAY=None, SECURITY_DELAY=None, AIRLINE_DELAY=None, LATE_AIRCRAFT_DELAY=None, WEATHER_DELAY=None)]"
      ]
     },
     "execution_count": 36,
     "metadata": {},
     "output_type": "execute_result"
    }
   ],
   "source": [
    "from pyspark.sql.functions import col\n",
    "df_flight_prueba.filter(col(\"ORIGIN_AIRPORT\")==\"LAX\").take(2)"
   ]
  },
  {
   "cell_type": "code",
   "execution_count": 37,
   "metadata": {},
   "outputs": [
    {
     "data": {
      "text/plain": [
       "[Row(YEAR=2015, MONTH=1, DAY=1, DAY_OF_WEEK=4, AIRLINE='AA', FLIGHT_NUMBER=2336, TAIL_NUMBER='N3KUAA', ORIGIN_AIRPORT='LAX', DESTINATION_AIRPORT='PBI', SCHEDULED_DEPARTURE=10, DEPARTURE_TIME=2, DEPARTURE_DELAY=-8, TAXI_OUT=12, WHEELS_OFF=14, SCHEDULED_TIME=280, ELAPSED_TIME=279, AIR_TIME=263, DISTANCE=2330, WHEELS_ON=737, TAXI_IN=4, SCHEDULED_ARRIVAL=750, ARRIVAL_TIME=741, ARRIVAL_DELAY=-9, DIVERTED=0, CANCELLED=0, CANCELLATION_REASON=None, AIR_SYSTEM_DELAY=None, SECURITY_DELAY=None, AIRLINE_DELAY=None, LATE_AIRCRAFT_DELAY=None, WEATHER_DELAY=None),\n",
       " Row(YEAR=2015, MONTH=1, DAY=1, DAY_OF_WEEK=4, AIRLINE='AA', FLIGHT_NUMBER=258, TAIL_NUMBER='N3HYAA', ORIGIN_AIRPORT='LAX', DESTINATION_AIRPORT='MIA', SCHEDULED_DEPARTURE=20, DEPARTURE_TIME=15, DEPARTURE_DELAY=-5, TAXI_OUT=15, WHEELS_OFF=30, SCHEDULED_TIME=285, ELAPSED_TIME=281, AIR_TIME=258, DISTANCE=2342, WHEELS_ON=748, TAXI_IN=8, SCHEDULED_ARRIVAL=805, ARRIVAL_TIME=756, ARRIVAL_DELAY=-9, DIVERTED=0, CANCELLED=0, CANCELLATION_REASON=None, AIR_SYSTEM_DELAY=None, SECURITY_DELAY=None, AIRLINE_DELAY=None, LATE_AIRCRAFT_DELAY=None, WEATHER_DELAY=None)]"
      ]
     },
     "execution_count": 37,
     "metadata": {},
     "output_type": "execute_result"
    }
   ],
   "source": [
    "df_flight_prueba.filter(\"ORIGIN_AIRPORT =='LAX'\").take(2)"
   ]
  },
  {
   "cell_type": "code",
   "execution_count": 39,
   "metadata": {},
   "outputs": [
    {
     "data": {
      "text/plain": [
       "[Row(YEAR=2015, MONTH=1, DAY=1, DAY_OF_WEEK=4, AIRLINE='AA', FLIGHT_NUMBER=258, TAIL_NUMBER='N3HYAA', ORIGIN_AIRPORT='LAX', DESTINATION_AIRPORT='MIA', SCHEDULED_DEPARTURE=20, DEPARTURE_TIME=15, DEPARTURE_DELAY=-5, TAXI_OUT=15, WHEELS_OFF=30, SCHEDULED_TIME=285, ELAPSED_TIME=281, AIR_TIME=258, DISTANCE=2342, WHEELS_ON=748, TAXI_IN=8, SCHEDULED_ARRIVAL=805, ARRIVAL_TIME=756, ARRIVAL_DELAY=-9, DIVERTED=0, CANCELLED=0, CANCELLATION_REASON=None, AIR_SYSTEM_DELAY=None, SECURITY_DELAY=None, AIRLINE_DELAY=None, LATE_AIRCRAFT_DELAY=None, WEATHER_DELAY=None),\n",
       " Row(YEAR=2015, MONTH=1, DAY=1, DAY_OF_WEEK=4, AIRLINE='AA', FLIGHT_NUMBER=115, TAIL_NUMBER='N3CTAA', ORIGIN_AIRPORT='LAX', DESTINATION_AIRPORT='MIA', SCHEDULED_DEPARTURE=105, DEPARTURE_TIME=103, DEPARTURE_DELAY=-2, TAXI_OUT=14, WHEELS_OFF=117, SCHEDULED_TIME=286, ELAPSED_TIME=276, AIR_TIME=255, DISTANCE=2342, WHEELS_ON=832, TAXI_IN=7, SCHEDULED_ARRIVAL=851, ARRIVAL_TIME=839, ARRIVAL_DELAY=-12, DIVERTED=0, CANCELLED=0, CANCELLATION_REASON=None, AIR_SYSTEM_DELAY=None, SECURITY_DELAY=None, AIRLINE_DELAY=None, LATE_AIRCRAFT_DELAY=None, WEATHER_DELAY=None),\n",
       " Row(YEAR=2015, MONTH=1, DAY=1, DAY_OF_WEEK=4, AIRLINE='AA', FLIGHT_NUMBER=306, TAIL_NUMBER='N859AA', ORIGIN_AIRPORT='LAX', DESTINATION_AIRPORT='MIA', SCHEDULED_DEPARTURE=800, DEPARTURE_TIME=759, DEPARTURE_DELAY=-1, TAXI_OUT=13, WHEELS_OFF=812, SCHEDULED_TIME=292, ELAPSED_TIME=280, AIR_TIME=257, DISTANCE=2342, WHEELS_ON=1529, TAXI_IN=10, SCHEDULED_ARRIVAL=1552, ARRIVAL_TIME=1539, ARRIVAL_DELAY=-13, DIVERTED=0, CANCELLED=0, CANCELLATION_REASON=None, AIR_SYSTEM_DELAY=None, SECURITY_DELAY=None, AIRLINE_DELAY=None, LATE_AIRCRAFT_DELAY=None, WEATHER_DELAY=None),\n",
       " Row(YEAR=2015, MONTH=1, DAY=1, DAY_OF_WEEK=4, AIRLINE='AA', FLIGHT_NUMBER=208, TAIL_NUMBER='N355AA', ORIGIN_AIRPORT='LAX', DESTINATION_AIRPORT='MIA', SCHEDULED_DEPARTURE=840, DEPARTURE_TIME=842, DEPARTURE_DELAY=2, TAXI_OUT=19, WHEELS_OFF=901, SCHEDULED_TIME=293, ELAPSED_TIME=285, AIR_TIME=264, DISTANCE=2342, WHEELS_ON=1625, TAXI_IN=2, SCHEDULED_ARRIVAL=1633, ARRIVAL_TIME=1627, ARRIVAL_DELAY=-6, DIVERTED=0, CANCELLED=0, CANCELLATION_REASON=None, AIR_SYSTEM_DELAY=None, SECURITY_DELAY=None, AIRLINE_DELAY=None, LATE_AIRCRAFT_DELAY=None, WEATHER_DELAY=None),\n",
       " Row(YEAR=2015, MONTH=1, DAY=1, DAY_OF_WEEK=4, AIRLINE='AA', FLIGHT_NUMBER=124, TAIL_NUMBER='N7BEAA', ORIGIN_AIRPORT='LAX', DESTINATION_AIRPORT='MIA', SCHEDULED_DEPARTURE=1250, DEPARTURE_TIME=1305, DEPARTURE_DELAY=15, TAXI_OUT=17, WHEELS_OFF=1322, SCHEDULED_TIME=285, ELAPSED_TIME=277, AIR_TIME=256, DISTANCE=2342, WHEELS_ON=2038, TAXI_IN=4, SCHEDULED_ARRIVAL=2035, ARRIVAL_TIME=2042, ARRIVAL_DELAY=7, DIVERTED=0, CANCELLED=0, CANCELLATION_REASON=None, AIR_SYSTEM_DELAY=None, SECURITY_DELAY=None, AIRLINE_DELAY=None, LATE_AIRCRAFT_DELAY=None, WEATHER_DELAY=None)]"
      ]
     },
     "execution_count": 39,
     "metadata": {},
     "output_type": "execute_result"
    }
   ],
   "source": [
    "#filtramos con dos condiciones:\n",
    "df_flight_prueba.filter((df_flight_prueba.ORIGIN_AIRPORT == \"LAX\") & (df_flight_prueba.DESTINATION_AIRPORT ==\"MIA\")).take(5)"
   ]
  },
  {
   "cell_type": "code",
   "execution_count": 40,
   "metadata": {},
   "outputs": [
    {
     "data": {
      "text/plain": [
       "194673"
      ]
     },
     "execution_count": 40,
     "metadata": {},
     "output_type": "execute_result"
    }
   ],
   "source": [
    "#Número de vuelos que estan saliendo de los Ángeles:\n",
    "df_flight_prueba.filter(df_flight_prueba.ORIGIN_AIRPORT == \"LAX\").count()"
   ]
  },
  {
   "cell_type": "code",
   "execution_count": 42,
   "metadata": {},
   "outputs": [
    {
     "data": {
      "text/plain": [
       "371861"
      ]
     },
     "execution_count": 42,
     "metadata": {},
     "output_type": "execute_result"
    }
   ],
   "source": [
    "#Filtramos por valores:\n",
    "lista=[\"LAX\",\"MIA\",\"BOS\"]\n",
    "df_flight_prueba.filter(df_flight_prueba.ORIGIN_AIRPORT.isin(lista)).count()"
   ]
  },
  {
   "cell_type": "code",
   "execution_count": 44,
   "metadata": {},
   "outputs": [
    {
     "data": {
      "text/plain": [
       "5447218"
      ]
     },
     "execution_count": 44,
     "metadata": {},
     "output_type": "execute_result"
    }
   ],
   "source": [
    "#Si queremos excluir estos elementos en nuestro filtraje:\n",
    "lista=[\"LAX\",\"MIA\",\"BOS\"]\n",
    "df_flight_prueba.filter(df_flight_prueba.ORIGIN_AIRPORT.isin(lista) == False).count()"
   ]
  },
  {
   "cell_type": "code",
   "execution_count": 45,
   "metadata": {},
   "outputs": [
    {
     "data": {
      "text/plain": [
       "0"
      ]
     },
     "execution_count": 45,
     "metadata": {},
     "output_type": "execute_result"
    }
   ],
   "source": [
    "#Buscamos todos los aeropuertos de origen que empiecen con \"N\"\n",
    "df_flight_prueba.filter(df_flight_prueba.ORIGIN_AIRPORT.startswith (\"N\")).count()"
   ]
  },
  {
   "cell_type": "code",
   "execution_count": 46,
   "metadata": {},
   "outputs": [
    {
     "data": {
      "text/plain": [
       "[Row(YEAR=2015, MONTH=1, DAY=1, DAY_OF_WEEK=4, AIRLINE='AS', FLIGHT_NUMBER=98, TAIL_NUMBER='N407AS', ORIGIN_AIRPORT='ANC', DESTINATION_AIRPORT='SEA', SCHEDULED_DEPARTURE=5, DEPARTURE_TIME=2354, DEPARTURE_DELAY=-11, TAXI_OUT=21, WHEELS_OFF=15, SCHEDULED_TIME=205, ELAPSED_TIME=194, AIR_TIME=169, DISTANCE=1448, WHEELS_ON=404, TAXI_IN=4, SCHEDULED_ARRIVAL=430, ARRIVAL_TIME=408, ARRIVAL_DELAY=-22, DIVERTED=0, CANCELLED=0, CANCELLATION_REASON=None, AIR_SYSTEM_DELAY=None, SECURITY_DELAY=None, AIRLINE_DELAY=None, LATE_AIRCRAFT_DELAY=None, WEATHER_DELAY=None),\n",
       " Row(YEAR=2015, MONTH=1, DAY=1, DAY_OF_WEEK=4, AIRLINE='AA', FLIGHT_NUMBER=2336, TAIL_NUMBER='N3KUAA', ORIGIN_AIRPORT='LAX', DESTINATION_AIRPORT='PBI', SCHEDULED_DEPARTURE=10, DEPARTURE_TIME=2, DEPARTURE_DELAY=-8, TAXI_OUT=12, WHEELS_OFF=14, SCHEDULED_TIME=280, ELAPSED_TIME=279, AIR_TIME=263, DISTANCE=2330, WHEELS_ON=737, TAXI_IN=4, SCHEDULED_ARRIVAL=750, ARRIVAL_TIME=741, ARRIVAL_DELAY=-9, DIVERTED=0, CANCELLED=0, CANCELLATION_REASON=None, AIR_SYSTEM_DELAY=None, SECURITY_DELAY=None, AIRLINE_DELAY=None, LATE_AIRCRAFT_DELAY=None, WEATHER_DELAY=None)]"
      ]
     },
     "execution_count": 46,
     "metadata": {},
     "output_type": "execute_result"
    }
   ],
   "source": [
    "df_flight_prueba.filter(df_flight_prueba.ORIGIN_AIRPORT.like (\"%A%\")).take(2)"
   ]
  },
  {
   "cell_type": "code",
   "execution_count": 47,
   "metadata": {},
   "outputs": [
    {
     "name": "stdout",
     "output_type": "stream",
     "text": [
      "+--------+\n",
      "|DISTANCE|\n",
      "+--------+\n",
      "|    4983|\n",
      "|    4983|\n",
      "|    4983|\n",
      "|    4983|\n",
      "|    4983|\n",
      "|    4983|\n",
      "|    4983|\n",
      "|    4983|\n",
      "|    4983|\n",
      "|    4983|\n",
      "|    4983|\n",
      "|    4983|\n",
      "|    4983|\n",
      "|    4983|\n",
      "|    4983|\n",
      "|    4983|\n",
      "|    4983|\n",
      "|    4983|\n",
      "|    4983|\n",
      "|    4983|\n",
      "+--------+\n",
      "only showing top 20 rows\n",
      "\n"
     ]
    }
   ],
   "source": [
    "df_flight_prueba.sort(df_flight_prueba.DISTANCE.desc()).select(\"DISTANCE\").show()"
   ]
  },
  {
   "cell_type": "code",
   "execution_count": 48,
   "metadata": {},
   "outputs": [
    {
     "name": "stdout",
     "output_type": "stream",
     "text": [
      "+--------+\n",
      "|DISTANCE|\n",
      "+--------+\n",
      "|    4983|\n",
      "|    4983|\n",
      "|    4983|\n",
      "|    4983|\n",
      "|    4983|\n",
      "|    4983|\n",
      "|    4983|\n",
      "|    4983|\n",
      "|    4983|\n",
      "|    4983|\n",
      "|    4983|\n",
      "|    4983|\n",
      "|    4983|\n",
      "|    4983|\n",
      "|    4983|\n",
      "|    4983|\n",
      "|    4983|\n",
      "|    4983|\n",
      "|    4983|\n",
      "|    4983|\n",
      "+--------+\n",
      "only showing top 20 rows\n",
      "\n"
     ]
    }
   ],
   "source": [
    "df_flight_prueba.orderBy(df_flight_prueba.DISTANCE.desc()).select(\"DISTANCE\").show()"
   ]
  },
  {
   "cell_type": "code",
   "execution_count": 50,
   "metadata": {},
   "outputs": [
    {
     "name": "stdout",
     "output_type": "stream",
     "text": [
      "+--------+-------+\n",
      "|DISTANCE|AIRLINE|\n",
      "+--------+-------+\n",
      "|    4983|     HA|\n",
      "|    4983|     HA|\n",
      "|    4983|     HA|\n",
      "|    4983|     HA|\n",
      "|    4983|     HA|\n",
      "|    4983|     HA|\n",
      "|    4983|     HA|\n",
      "|    4983|     HA|\n",
      "|    4983|     HA|\n",
      "|    4983|     HA|\n",
      "|    4983|     HA|\n",
      "|    4983|     HA|\n",
      "|    4983|     HA|\n",
      "|    4983|     HA|\n",
      "|    4983|     HA|\n",
      "|    4983|     HA|\n",
      "|    4983|     HA|\n",
      "|    4983|     HA|\n",
      "|    4983|     HA|\n",
      "|    4983|     HA|\n",
      "+--------+-------+\n",
      "only showing top 20 rows\n",
      "\n"
     ]
    }
   ],
   "source": [
    "df_flight_prueba.orderBy(df_flight_prueba.DISTANCE.desc(),df_flight_prueba.AIRLINE.desc() ).select(\"DISTANCE\",\"AIRLINE\").show()"
   ]
  },
  {
   "cell_type": "code",
   "execution_count": 51,
   "metadata": {},
   "outputs": [
    {
     "name": "stdout",
     "output_type": "stream",
     "text": [
      "+--------+-------+\n",
      "|DISTANCE|AIRLINE|\n",
      "+--------+-------+\n",
      "|    4983|     DL|\n",
      "|    4983|     DL|\n",
      "|    4983|     DL|\n",
      "|    4983|     DL|\n",
      "|    4983|     DL|\n",
      "|    4983|     DL|\n",
      "|    4983|     DL|\n",
      "|    4983|     DL|\n",
      "|    4983|     DL|\n",
      "|    4983|     DL|\n",
      "|    4983|     DL|\n",
      "|    4983|     DL|\n",
      "|    4983|     DL|\n",
      "|    4983|     DL|\n",
      "|    4983|     DL|\n",
      "|    4983|     DL|\n",
      "|    4983|     DL|\n",
      "|    4983|     DL|\n",
      "|    4983|     DL|\n",
      "|    4983|     DL|\n",
      "+--------+-------+\n",
      "only showing top 20 rows\n",
      "\n"
     ]
    }
   ],
   "source": [
    "df_flight_prueba.orderBy(df_flight_prueba.DISTANCE.desc(),df_flight_prueba.AIRLINE.asc() ).select(\"DISTANCE\",\"AIRLINE\").show()"
   ]
  },
  {
   "cell_type": "code",
   "execution_count": 52,
   "metadata": {},
   "outputs": [
    {
     "name": "stdout",
     "output_type": "stream",
     "text": [
      "+-------+--------------+\n",
      "|AIRLINE|sum(CANCELLED)|\n",
      "+-------+--------------+\n",
      "|     US|          4067|\n",
      "|     EV|         15231|\n",
      "|     WN|         16043|\n",
      "|     VX|           534|\n",
      "|     DL|          3824|\n",
      "|     UA|          6573|\n",
      "|     OO|          9960|\n",
      "|     MQ|         15025|\n",
      "|     B6|          4276|\n",
      "|     F9|           588|\n",
      "|     AS|           669|\n",
      "|     AA|         10919|\n",
      "|     NK|          2004|\n",
      "|     HA|           171|\n",
      "+-------+--------------+\n",
      "\n"
     ]
    }
   ],
   "source": [
    "#Calculamos el numero de vuelos cancelados agrupados por aerolinia.\n",
    "df_flight_prueba.groupBy(\"AIRLINE\").sum(\"CANCELLED\").show()"
   ]
  },
  {
   "cell_type": "code",
   "execution_count": 53,
   "metadata": {},
   "outputs": [
    {
     "name": "stdout",
     "output_type": "stream",
     "text": [
      "+-------+-------+\n",
      "|AIRLINE|  count|\n",
      "+-------+-------+\n",
      "|     US| 198715|\n",
      "|     EV| 571977|\n",
      "|     WN|1261855|\n",
      "|     VX|  61903|\n",
      "|     DL| 875881|\n",
      "|     UA| 515723|\n",
      "|     OO| 588353|\n",
      "|     MQ| 294632|\n",
      "|     B6| 267048|\n",
      "|     F9|  90836|\n",
      "|     AS| 172521|\n",
      "|     AA| 725984|\n",
      "|     NK| 117379|\n",
      "|     HA|  76272|\n",
      "+-------+-------+\n",
      "\n"
     ]
    }
   ],
   "source": [
    "df_flight_prueba.groupBy(\"AIRLINE\").count().show()"
   ]
  },
  {
   "cell_type": "code",
   "execution_count": 54,
   "metadata": {},
   "outputs": [
    {
     "name": "stdout",
     "output_type": "stream",
     "text": [
      "+-------+-------------+\n",
      "|AIRLINE|min(DISTANCE)|\n",
      "+-------+-------------+\n",
      "|     US|           83|\n",
      "|     EV|           52|\n",
      "|     WN|          148|\n",
      "|     VX|          189|\n",
      "|     DL|           74|\n",
      "|     UA|           36|\n",
      "|     OO|           49|\n",
      "|     MQ|           89|\n",
      "|     B6|           68|\n",
      "|     F9|          168|\n",
      "|     AS|           31|\n",
      "|     AA|           21|\n",
      "|     NK|          177|\n",
      "|     HA|           84|\n",
      "+-------+-------------+\n",
      "\n"
     ]
    }
   ],
   "source": [
    "df_flight_prueba.groupBy(\"AIRLINE\").min(\"DISTANCE\").show()"
   ]
  },
  {
   "cell_type": "code",
   "execution_count": 55,
   "metadata": {},
   "outputs": [
    {
     "name": "stdout",
     "output_type": "stream",
     "text": [
      "+-------+-------------+\n",
      "|AIRLINE|sum(DISTANCE)|\n",
      "+-------+-------------+\n",
      "|     US|    181129490|\n",
      "|     EV|    264397363|\n",
      "|     WN|    934670301|\n",
      "|     VX|     87034957|\n",
      "|     DL|    747671138|\n",
      "|     UA|    655765355|\n",
      "|     OO|    292277393|\n",
      "|     MQ|    124427633|\n",
      "|     B6|    283651757|\n",
      "|     F9|     87857929|\n",
      "|     AS|    206579765|\n",
      "|     AA|    755995614|\n",
      "|     NK|    115649669|\n",
      "|     HA|     48249045|\n",
      "+-------+-------------+\n",
      "\n"
     ]
    }
   ],
   "source": [
    "from pyspark.sql.functions import sum as _sum\n",
    "df_flight_prueba.groupBy(\"AIRLINE\").agg(_sum(\"DISTANCE\")).show()\n",
    "# Obtenemos la suma de todas las millas recorridas por aerolinea"
   ]
  },
  {
   "cell_type": "code",
   "execution_count": 57,
   "metadata": {},
   "outputs": [
    {
     "name": "stdout",
     "output_type": "stream",
     "text": [
      "+-------+---------+\n",
      "|AIRLINE|Distancia|\n",
      "+-------+---------+\n",
      "|     WN|934670301|\n",
      "|     DL|747671138|\n",
      "|     AA|755995614|\n",
      "+-------+---------+\n",
      "\n"
     ]
    }
   ],
   "source": [
    "df_flight_prueba.groupBy(\"AIRLINE\").agg(_sum(\"DISTANCE\").alias(\"Distancia\")).where(col(\"Distancia\")>700000000).show()"
   ]
  },
  {
   "cell_type": "code",
   "execution_count": null,
   "metadata": {},
   "outputs": [],
   "source": []
  }
 ],
 "metadata": {
  "kernelspec": {
   "display_name": "Python 3",
   "language": "python",
   "name": "python3"
  },
  "language_info": {
   "codemirror_mode": {
    "name": "ipython",
    "version": 3
   },
   "file_extension": ".py",
   "mimetype": "text/x-python",
   "name": "python",
   "nbconvert_exporter": "python",
   "pygments_lexer": "ipython3",
   "version": "3.10.6"
  }
 },
 "nbformat": 4,
 "nbformat_minor": 2
}
