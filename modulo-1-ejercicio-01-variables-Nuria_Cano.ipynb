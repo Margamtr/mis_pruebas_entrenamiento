{
 "cells": [
  {
   "cell_type": "code",
   "execution_count": 3,
   "id": "5b26f96e",
   "metadata": {},
   "outputs": [
    {
     "name": "stdout",
     "output_type": "stream",
     "text": [
      "8\n",
      "cuatro\n"
     ]
    }
   ],
   "source": [
    "# Ejercicio 1\n",
    "gatos=8\n",
    "\n",
    "# Ejercicio 2\n",
    "perros=\"cuatro\"\n",
    "\n",
    "# Ejercicio 3\n",
    "print(gatos)\n",
    "\n",
    "# Ejercicio 4\n",
    "print(perros)"
   ]
  },
  {
   "cell_type": "code",
   "execution_count": 4,
   "id": "f8566f71",
   "metadata": {},
   "outputs": [
    {
     "name": "stdout",
     "output_type": "stream",
     "text": [
      "cuatro  mas  perros\n"
     ]
    }
   ],
   "source": [
    "# Ejercicio 5\n",
    "print(perros, \" mas \" ,\"perros\" )"
   ]
  },
  {
   "cell_type": "code",
   "execution_count": 5,
   "id": "66fd1c23",
   "metadata": {},
   "outputs": [
    {
     "name": "stdout",
     "output_type": "stream",
     "text": [
      "cuatro  mas  cuatro  es igual a 8\n"
     ]
    }
   ],
   "source": [
    "# Ejercicio 6\n",
    "print(perros, \" mas \",perros, \" es igual a 8\")"
   ]
  },
  {
   "cell_type": "code",
   "execution_count": 6,
   "id": "721b4bb2",
   "metadata": {},
   "outputs": [
    {
     "name": "stdout",
     "output_type": "stream",
     "text": [
      "cuatro  +  cuatro  = 8\n"
     ]
    }
   ],
   "source": [
    "# Ejercicio 7\n",
    "print(perros, \" + \",perros, \" = 8\")"
   ]
  },
  {
   "cell_type": "code",
   "execution_count": 7,
   "id": "74c535a0",
   "metadata": {},
   "outputs": [
    {
     "data": {
      "text/plain": [
       "float"
      ]
     },
     "execution_count": 7,
     "metadata": {},
     "output_type": "execute_result"
    }
   ],
   "source": [
    "# Ejercicio 8\n",
    "pizzas=float(2)\n",
    "\n",
    "# Ejercicio 9\n",
    "magdalenas=str(2)\n",
    "\n",
    "# Ejercicio 10\n",
    "postres=int(0)\n",
    "\n",
    "# Ejercicio 11\n",
    "type(pizzas)\n"
   ]
  },
  {
   "cell_type": "code",
   "execution_count": 8,
   "id": "7bdf34b7",
   "metadata": {},
   "outputs": [
    {
     "data": {
      "text/plain": [
       "True"
      ]
     },
     "execution_count": 8,
     "metadata": {},
     "output_type": "execute_result"
    }
   ],
   "source": [
    "# Ejercicio 12\n",
    "isinstance(magdalenas,str)\n"
   ]
  },
  {
   "cell_type": "code",
   "execution_count": 9,
   "id": "4e876a7d",
   "metadata": {},
   "outputs": [],
   "source": [
    "# Ejercicio 13\n",
    "postres=0"
   ]
  },
  {
   "cell_type": "code",
   "execution_count": 10,
   "id": "29287504",
   "metadata": {},
   "outputs": [
    {
     "data": {
      "text/plain": [
       "10.0"
      ]
     },
     "execution_count": 10,
     "metadata": {},
     "output_type": "execute_result"
    }
   ],
   "source": [
    "# Ejercicio 14\n",
    "gatos+pizzas"
   ]
  },
  {
   "cell_type": "code",
   "execution_count": 11,
   "id": "29cca32a",
   "metadata": {},
   "outputs": [
    {
     "data": {
      "text/plain": [
       "6.0"
      ]
     },
     "execution_count": 11,
     "metadata": {},
     "output_type": "execute_result"
    }
   ],
   "source": [
    "# Ejercicio 15\n",
    "gatos-pizzas"
   ]
  },
  {
   "cell_type": "code",
   "execution_count": 12,
   "id": "c33c93a3",
   "metadata": {},
   "outputs": [
    {
     "data": {
      "text/plain": [
       "16"
      ]
     },
     "execution_count": 12,
     "metadata": {},
     "output_type": "execute_result"
    }
   ],
   "source": [
    "# Ejercicio 16\n",
    "gatos*2\n"
   ]
  },
  {
   "cell_type": "code",
   "execution_count": 13,
   "id": "db4ada47",
   "metadata": {},
   "outputs": [
    {
     "data": {
      "text/plain": [
       "16.0"
      ]
     },
     "execution_count": 13,
     "metadata": {},
     "output_type": "execute_result"
    }
   ],
   "source": [
    "# Ejercicio 17\n",
    "piezas=8*pizzas\n",
    "piezas"
   ]
  },
  {
   "cell_type": "code",
   "execution_count": 14,
   "id": "83de1dcf",
   "metadata": {},
   "outputs": [
    {
     "data": {
      "text/plain": [
       "19.0"
      ]
     },
     "execution_count": 14,
     "metadata": {},
     "output_type": "execute_result"
    }
   ],
   "source": [
    "# Ejercicio 18\n",
    "piezas=piezas+3\n",
    "piezas"
   ]
  },
  {
   "cell_type": "code",
   "execution_count": 15,
   "id": "15b95515",
   "metadata": {},
   "outputs": [
    {
     "data": {
      "text/plain": [
       "81"
      ]
     },
     "execution_count": 15,
     "metadata": {},
     "output_type": "execute_result"
    }
   ],
   "source": [
    "# Ejercicio 19\n",
    "superficie=9**2\n",
    "superficie"
   ]
  },
  {
   "cell_type": "code",
   "execution_count": 16,
   "id": "1e7bfeac",
   "metadata": {},
   "outputs": [
    {
     "data": {
      "text/plain": [
       "10.125"
      ]
     },
     "execution_count": 16,
     "metadata": {},
     "output_type": "execute_result"
    }
   ],
   "source": [
    "# Ejercicio 20\n",
    "superficie/gatos"
   ]
  },
  {
   "cell_type": "code",
   "execution_count": 17,
   "id": "ecd96e68",
   "metadata": {},
   "outputs": [
    {
     "data": {
      "text/plain": [
       "2.0"
      ]
     },
     "execution_count": 17,
     "metadata": {},
     "output_type": "execute_result"
    }
   ],
   "source": [
    "# Ejercicio 21\n",
    "piezas//gatos\n"
   ]
  },
  {
   "cell_type": "code",
   "execution_count": 18,
   "id": "458a34f5",
   "metadata": {},
   "outputs": [
    {
     "data": {
      "text/plain": [
       "-149.0"
      ]
     },
     "execution_count": 18,
     "metadata": {},
     "output_type": "execute_result"
    }
   ],
   "source": [
    "# Ejercicio 22\n",
    "piezas-(21*gatos)"
   ]
  },
  {
   "cell_type": "code",
   "execution_count": 19,
   "id": "171e9667",
   "metadata": {},
   "outputs": [
    {
     "data": {
      "text/plain": [
       "10.1"
      ]
     },
     "execution_count": 19,
     "metadata": {},
     "output_type": "execute_result"
    }
   ],
   "source": [
    "# Ejercicio 23\n",
    "round(superficie/gatos,1)"
   ]
  },
  {
   "cell_type": "code",
   "execution_count": 20,
   "id": "9367bd80",
   "metadata": {},
   "outputs": [
    {
     "data": {
      "text/plain": [
       "True"
      ]
     },
     "execution_count": 20,
     "metadata": {},
     "output_type": "execute_result"
    }
   ],
   "source": [
    "# Ejercicio 24\n",
    "gatos>pizzas"
   ]
  },
  {
   "cell_type": "code",
   "execution_count": 21,
   "id": "ac3cf792",
   "metadata": {},
   "outputs": [
    {
     "data": {
      "text/plain": [
       "True"
      ]
     },
     "execution_count": 21,
     "metadata": {},
     "output_type": "execute_result"
    }
   ],
   "source": [
    "# Ejercicio 25\n",
    "gatos<superficie"
   ]
  },
  {
   "cell_type": "code",
   "execution_count": 22,
   "id": "29d08da3",
   "metadata": {},
   "outputs": [
    {
     "data": {
      "text/plain": [
       "True"
      ]
     },
     "execution_count": 22,
     "metadata": {},
     "output_type": "execute_result"
    }
   ],
   "source": [
    "# Ejercicio 26\n",
    "(2*pizzas)!=gatos"
   ]
  },
  {
   "cell_type": "code",
   "execution_count": 23,
   "id": "88474c10",
   "metadata": {},
   "outputs": [
    {
     "data": {
      "text/plain": [
       "False"
      ]
     },
     "execution_count": 23,
     "metadata": {},
     "output_type": "execute_result"
    }
   ],
   "source": [
    "# Ejercicio 27\n",
    "(2*pizzas)==gatos"
   ]
  },
  {
   "cell_type": "code",
   "execution_count": 24,
   "id": "f37289f0",
   "metadata": {},
   "outputs": [
    {
     "name": "stdout",
     "output_type": "stream",
     "text": [
      "True\n",
      "True\n"
     ]
    }
   ],
   "source": [
    "# Ejercicio 28\n",
    "print(piezas>=pizzas)\n",
    "print(superficie!=0)\n"
   ]
  },
  {
   "cell_type": "code",
   "execution_count": 25,
   "id": "6e04374b",
   "metadata": {},
   "outputs": [
    {
     "data": {
      "text/plain": [
       "True"
      ]
     },
     "execution_count": 25,
     "metadata": {},
     "output_type": "execute_result"
    }
   ],
   "source": [
    "# Ejercicio 29\n",
    "piezas>=pizzas and piezas<superficie"
   ]
  },
  {
   "cell_type": "code",
   "execution_count": null,
   "metadata": {},
   "outputs": [],
   "source": []
  },
  {
   "cell_type": "code",
   "execution_count": 26,
   "id": "81991568",
   "metadata": {},
   "outputs": [
    {
     "name": "stdout",
     "output_type": "stream",
     "text": [
      "False 2.0\n"
     ]
    }
   ],
   "source": [
    "# Ejercicio 30\n",
    "print(pizzas>gatos , pizzas%gatos)"
   ]
  },
  {
   "cell_type": "code",
   "execution_count": 27,
   "id": "902fb159",
   "metadata": {},
   "outputs": [
    {
     "data": {
      "text/plain": [
       "2.0"
      ]
     },
     "execution_count": 27,
     "metadata": {},
     "output_type": "execute_result"
    }
   ],
   "source": [
    "pizzas%gatos"
   ]
  },
  {
   "cell_type": "code",
   "execution_count": 37,
   "id": "4f2f34ff",
   "metadata": {},
   "outputs": [
    {
     "data": {
      "text/plain": [
       "True"
      ]
     },
     "execution_count": 37,
     "metadata": {},
     "output_type": "execute_result"
    }
   ],
   "source": [
    "# Ejercicio 31\n",
    "pizzas<=piezas<superficie\n"
   ]
  },
  {
   "cell_type": "code",
   "execution_count": 29,
   "id": "c17c4e17",
   "metadata": {},
   "outputs": [
    {
     "name": "stderr",
     "output_type": "stream",
     "text": [
      "<>:2: SyntaxWarning: \"is not\" with a literal. Did you mean \"!=\"?\n",
      "<>:2: SyntaxWarning: \"is not\" with a literal. Did you mean \"!=\"?\n",
      "/var/folders/g3/22l1jqy501nblpbhtydz9b0w0000gn/T/ipykernel_6767/1576504127.py:2: SyntaxWarning: \"is not\" with a literal. Did you mean \"!=\"?\n",
      "  superficie is not 0\n"
     ]
    },
    {
     "data": {
      "text/plain": [
       "True"
      ]
     },
     "execution_count": 29,
     "metadata": {},
     "output_type": "execute_result"
    }
   ],
   "source": [
    "# Ejercicio 32\n",
    "superficie is not 0"
   ]
  },
  {
   "cell_type": "code",
   "execution_count": 30,
   "id": "e5677784",
   "metadata": {},
   "outputs": [],
   "source": [
    "# Ejercicio 33\n",
    "dia_cumple = input(\"Cual es el dia de tu cumple: \")"
   ]
  },
  {
   "cell_type": "code",
   "execution_count": 31,
   "id": "55be54ae",
   "metadata": {},
   "outputs": [],
   "source": [
    "# Ejercicio 34\n",
    "mes_cumple = input(\"Cual es el mes de tu cumple: \")"
   ]
  },
  {
   "cell_type": "code",
   "execution_count": 32,
   "id": "83b80925",
   "metadata": {},
   "outputs": [
    {
     "data": {
      "text/plain": [
       "'11'"
      ]
     },
     "execution_count": 32,
     "metadata": {},
     "output_type": "execute_result"
    }
   ],
   "source": [
    "# Ejercicio 35\n",
    "dia_cumple.strip()\n",
    "mes_cumple.strip()"
   ]
  },
  {
   "cell_type": "code",
   "execution_count": 33,
   "id": "f1121ed1",
   "metadata": {},
   "outputs": [
    {
     "data": {
      "text/plain": [
       "'27/11'"
      ]
     },
     "execution_count": 33,
     "metadata": {},
     "output_type": "execute_result"
    }
   ],
   "source": [
    "# Ejercicio 36\n",
    "fecha_cumple = str(dia_cumple + \"/\" + mes_cumple)\n",
    "fecha_cumple"
   ]
  },
  {
   "cell_type": "code",
   "execution_count": 34,
   "id": "f9ed0cf2",
   "metadata": {},
   "outputs": [
    {
     "name": "stdout",
     "output_type": "stream",
     "text": [
      "Fecha de cumple es 27/11\n"
     ]
    }
   ],
   "source": [
    "# Ejercicio 37\n",
    "print(\"Fecha de cumple es\", fecha_cumple)"
   ]
  },
  {
   "cell_type": "code",
   "execution_count": 35,
   "id": "9157f1bc",
   "metadata": {},
   "outputs": [
    {
     "name": "stdout",
     "output_type": "stream",
     "text": [
      "CUATRO\n"
     ]
    }
   ],
   "source": [
    "# Ejercicio 38\n",
    "print(perros.upper())"
   ]
  },
  {
   "cell_type": "code",
   "execution_count": null,
   "id": "52c263c1",
   "metadata": {},
   "outputs": [],
   "source": []
  }
 ],
 "metadata": {
  "kernelspec": {
   "display_name": "Python 3 (ipykernel)",
   "language": "python",
   "name": "python3"
  },
  "language_info": {
   "codemirror_mode": {
    "name": "ipython",
    "version": 3
   },
   "file_extension": ".py",
   "mimetype": "text/x-python",
   "name": "python",
   "nbconvert_exporter": "python",
   "pygments_lexer": "ipython3",
   "version": "3.9.7"
  }
 },
 "nbformat": 4,
 "nbformat_minor": 5
}
