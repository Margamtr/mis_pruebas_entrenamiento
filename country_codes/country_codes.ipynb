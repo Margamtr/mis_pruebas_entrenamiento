{
 "cells": [
  {
   "cell_type": "code",
   "execution_count": null,
   "id": "1c87e204",
   "metadata": {},
   "outputs": [
    {
     "name": "stdout",
     "output_type": "stream",
     "text": [
      "Defaulting to user installation because normal site-packages is not writeable\n",
      "Collecting beautifulsoup4\n",
      "  Downloading beautifulsoup4-4.13.4-py3-none-any.whl.metadata (3.8 kB)\n",
      "Collecting soupsieve>1.2 (from beautifulsoup4)\n",
      "  Downloading soupsieve-2.7-py3-none-any.whl.metadata (4.6 kB)\n",
      "Requirement already satisfied: typing-extensions>=4.0.0 in c:\\users\\marg_\\appdata\\roaming\\python\\python310\\site-packages (from beautifulsoup4) (4.12.2)\n",
      "Downloading beautifulsoup4-4.13.4-py3-none-any.whl (187 kB)\n",
      "Downloading soupsieve-2.7-py3-none-any.whl (36 kB)\n",
      "Installing collected packages: soupsieve, beautifulsoup4\n",
      "Successfully installed beautifulsoup4-4.13.4 soupsieve-2.7\n"
     ]
    },
    {
     "name": "stderr",
     "output_type": "stream",
     "text": [
      "\n",
      "[notice] A new release of pip is available: 24.2 -> 25.1.1\n",
      "[notice] To update, run: python.exe -m pip install --upgrade pip\n"
     ]
    }
   ],
   "source": [
    "#!pip install beautifulsoup4"
   ]
  },
  {
   "cell_type": "code",
   "execution_count": null,
   "id": "eeff68d5",
   "metadata": {},
   "outputs": [
    {
     "name": "stdout",
     "output_type": "stream",
     "text": [
      "Defaulting to user installation because normal site-packages is not writeable\n",
      "Requirement already satisfied: requests in c:\\users\\marg_\\appdata\\roaming\\python\\python310\\site-packages (2.32.3)\n",
      "Requirement already satisfied: charset-normalizer<4,>=2 in c:\\users\\marg_\\appdata\\roaming\\python\\python310\\site-packages (from requests) (3.4.0)\n",
      "Requirement already satisfied: idna<4,>=2.5 in c:\\users\\marg_\\appdata\\roaming\\python\\python310\\site-packages (from requests) (3.10)\n",
      "Requirement already satisfied: urllib3<3,>=1.21.1 in c:\\users\\marg_\\appdata\\roaming\\python\\python310\\site-packages (from requests) (2.2.3)\n",
      "Requirement already satisfied: certifi>=2017.4.17 in c:\\users\\marg_\\appdata\\roaming\\python\\python310\\site-packages (from requests) (2024.8.30)\n"
     ]
    },
    {
     "name": "stderr",
     "output_type": "stream",
     "text": [
      "\n",
      "[notice] A new release of pip is available: 24.2 -> 25.1.1\n",
      "[notice] To update, run: python.exe -m pip install --upgrade pip\n"
     ]
    }
   ],
   "source": [
    "#!pip install requests\n"
   ]
  },
  {
   "cell_type": "code",
   "execution_count": 1,
   "id": "a80dd42c",
   "metadata": {},
   "outputs": [],
   "source": [
    "from bs4 import BeautifulSoup\n",
    "import requests \n",
    "import pandas as pd\n",
    "import re\n",
    "pd.set_option('display.max_columns', None)\n"
   ]
  },
  {
   "cell_type": "code",
   "execution_count": 2,
   "id": "841ff981",
   "metadata": {},
   "outputs": [
    {
     "name": "stdout",
     "output_type": "stream",
     "text": [
      "<Response [200]>\n"
     ]
    }
   ],
   "source": [
    "url_country_codes=\"https://en.wikipedia.org/wiki/List_of_ISO_3166_country_codes\"\n",
    "res_codes=requests.get(url_country_codes)\n",
    "print(res_codes)\n"
   ]
  },
  {
   "cell_type": "code",
   "execution_count": 3,
   "id": "0b8e2ba4",
   "metadata": {},
   "outputs": [],
   "source": [
    "sopa_codes=BeautifulSoup(res_codes.content, 'html.parser')"
   ]
  },
  {
   "cell_type": "code",
   "execution_count": 4,
   "id": "83995d1b",
   "metadata": {},
   "outputs": [],
   "source": [
    "tablas=sopa_codes.find_all('table')"
   ]
  },
  {
   "cell_type": "code",
   "execution_count": 5,
   "id": "7d7c8c5a",
   "metadata": {},
   "outputs": [],
   "source": [
    "tabla=tablas[0]\n"
   ]
  },
  {
   "cell_type": "code",
   "execution_count": 6,
   "id": "436d91c7",
   "metadata": {},
   "outputs": [],
   "source": [
    "lista_encabezados=tabla.find_all(\"th\")"
   ]
  },
  {
   "cell_type": "code",
   "execution_count": 7,
   "id": "c8fafc4d",
   "metadata": {},
   "outputs": [
    {
     "data": {
      "text/plain": [
       "['ISO 3166[1]name[5]\\n',\n",
       " 'Official state name[6][a]\\n',\n",
       " 'Sovereignty[6][7][8]\\n',\n",
       " 'ISO 3166-1[2]\\n',\n",
       " 'ISO 3166-2[3] subdivision codes link\\n',\n",
       " 'TLD[9]\\n',\n",
       " 'A-2[5]\\n',\n",
       " 'A-3[5]\\n',\n",
       " 'Num.[5]\\n']"
      ]
     },
     "execution_count": 7,
     "metadata": {},
     "output_type": "execute_result"
    }
   ],
   "source": [
    "lista_encabezados_tx=[col.text for col in lista_encabezados]\n",
    "lista_encabezados_tx"
   ]
  },
  {
   "cell_type": "code",
   "execution_count": 8,
   "id": "dd384a84",
   "metadata": {},
   "outputs": [
    {
     "name": "stdout",
     "output_type": "stream",
     "text": [
      "Numero de filas= 273\n"
     ]
    }
   ],
   "source": [
    "filas_tabla=tabla.find_all(\"tr\")\n",
    "print(f'Numero de filas=', len(filas_tabla))\n"
   ]
  },
  {
   "cell_type": "code",
   "execution_count": 9,
   "id": "deb03130",
   "metadata": {},
   "outputs": [],
   "source": [
    "resultado=[]\n",
    "for fila in filas_tabla[2:]:\n",
    "    fila_texto=fila.text\n",
    "    elementos_fila=fila_texto.split(\"\\n\")[1:-1]\n",
    "    resultado.append(elementos_fila)\n",
    "\n"
   ]
  },
  {
   "cell_type": "code",
   "execution_count": 10,
   "id": "961f32c1",
   "metadata": {},
   "outputs": [],
   "source": [
    "res_copy=resultado.copy()"
   ]
  },
  {
   "cell_type": "code",
   "execution_count": 24,
   "id": "d5c0c1f0",
   "metadata": {},
   "outputs": [
    {
     "data": {
      "text/plain": [
       "['\\xa0Zimbabwe',\n",
       " '',\n",
       " 'the Republic of Zimbabwe',\n",
       " '',\n",
       " 'UN member',\n",
       " '',\n",
       " 'ZW',\n",
       " '',\n",
       " 'ZWE',\n",
       " '',\n",
       " '716',\n",
       " '',\n",
       " 'ISO 3166-2:ZW',\n",
       " '',\n",
       " '.zw']"
      ]
     },
     "execution_count": 24,
     "metadata": {},
     "output_type": "execute_result"
    }
   ],
   "source": [
    "res_copy[270]\n"
   ]
  },
  {
   "cell_type": "code",
   "execution_count": 25,
   "id": "4288d03c",
   "metadata": {},
   "outputs": [],
   "source": [
    "patron1=\"\\xa0|\\[[a-z]\\]\"\n",
    "resultado_limpio=[]\n",
    "for n in range(len(resultado)):\n",
    "    lis=[re.sub(patron1,\"\", resultado[n][x]) for x in range(len(resultado[n])) if x !=\"\"][0::2]\n",
    "    lis_clean=lis[:6]\n",
    "    lis_clean2=list(lis[7::])\n",
    "    resultado_limpio.append(lis_clean + lis_clean2)\n"
   ]
  },
  {
   "cell_type": "code",
   "execution_count": 13,
   "id": "46f69112",
   "metadata": {},
   "outputs": [],
   "source": [
    "#diccionario=dict(zip(columnas, datos))\n",
    "#patron_2='\\[.\\]\\\\n'\n",
    "columnas_paises=['ISO_name','Official state name','Sovereignty','A-2','A-3','num','TLD']"
   ]
  },
  {
   "cell_type": "code",
   "execution_count": 26,
   "id": "61d2e507",
   "metadata": {},
   "outputs": [],
   "source": [
    "df_country_codes=pd.DataFrame(resultado_limpio, columns=columnas_paises)"
   ]
  },
  {
   "cell_type": "code",
   "execution_count": 27,
   "id": "892d0f82",
   "metadata": {},
   "outputs": [
    {
     "data": {
      "text/html": [
       "<div>\n",
       "<style scoped>\n",
       "    .dataframe tbody tr th:only-of-type {\n",
       "        vertical-align: middle;\n",
       "    }\n",
       "\n",
       "    .dataframe tbody tr th {\n",
       "        vertical-align: top;\n",
       "    }\n",
       "\n",
       "    .dataframe thead th {\n",
       "        text-align: right;\n",
       "    }\n",
       "</style>\n",
       "<table border=\"1\" class=\"dataframe\">\n",
       "  <thead>\n",
       "    <tr style=\"text-align: right;\">\n",
       "      <th></th>\n",
       "      <th>ISO_name</th>\n",
       "      <th>Official state name</th>\n",
       "      <th>Sovereignty</th>\n",
       "      <th>A-2</th>\n",
       "      <th>A-3</th>\n",
       "      <th>num</th>\n",
       "      <th>TLD</th>\n",
       "    </tr>\n",
       "  </thead>\n",
       "  <tbody>\n",
       "    <tr>\n",
       "      <th>261</th>\n",
       "      <td>Vatican City – See Holy See, The.</td>\n",
       "      <td>None</td>\n",
       "      <td>None</td>\n",
       "      <td>None</td>\n",
       "      <td>None</td>\n",
       "      <td>None</td>\n",
       "      <td>None</td>\n",
       "    </tr>\n",
       "    <tr>\n",
       "      <th>262</th>\n",
       "      <td>Venezuela (Bolivarian Republic of)</td>\n",
       "      <td>the Bolivarian Republic of Venezuela</td>\n",
       "      <td>UN member</td>\n",
       "      <td>VE</td>\n",
       "      <td>VEN</td>\n",
       "      <td>862</td>\n",
       "      <td>.ve</td>\n",
       "    </tr>\n",
       "    <tr>\n",
       "      <th>263</th>\n",
       "      <td>Viet Nam [ak]</td>\n",
       "      <td>the Socialist Republic of Viet Nam</td>\n",
       "      <td>UN member</td>\n",
       "      <td>VN</td>\n",
       "      <td>VNM</td>\n",
       "      <td>704</td>\n",
       "      <td>.vn</td>\n",
       "    </tr>\n",
       "    <tr>\n",
       "      <th>264</th>\n",
       "      <td>Virgin Islands (British) [al]</td>\n",
       "      <td>the Virgin Islands</td>\n",
       "      <td>United Kingdom</td>\n",
       "      <td>VG</td>\n",
       "      <td>VGB</td>\n",
       "      <td>092</td>\n",
       "      <td>.vg</td>\n",
       "    </tr>\n",
       "    <tr>\n",
       "      <th>265</th>\n",
       "      <td>Virgin Islands (U.S.) [am]</td>\n",
       "      <td>the Virgin Islands of the United States</td>\n",
       "      <td>United States</td>\n",
       "      <td>VI</td>\n",
       "      <td>VIR</td>\n",
       "      <td>850</td>\n",
       "      <td>.vi</td>\n",
       "    </tr>\n",
       "    <tr>\n",
       "      <th>266</th>\n",
       "      <td>Wallis and Futuna</td>\n",
       "      <td>the Territory of the Wallis and Futuna Islands</td>\n",
       "      <td>France</td>\n",
       "      <td>WF</td>\n",
       "      <td>WLF</td>\n",
       "      <td>876</td>\n",
       "      <td>.wf</td>\n",
       "    </tr>\n",
       "    <tr>\n",
       "      <th>267</th>\n",
       "      <td>Western Sahara [an]</td>\n",
       "      <td>the Sahrawi Arab Democratic Republic</td>\n",
       "      <td>Disputed [ao]</td>\n",
       "      <td>EH</td>\n",
       "      <td>ESH</td>\n",
       "      <td>732</td>\n",
       "      <td>[ap]</td>\n",
       "    </tr>\n",
       "    <tr>\n",
       "      <th>268</th>\n",
       "      <td>Yemen</td>\n",
       "      <td>the Republic of Yemen</td>\n",
       "      <td>UN member</td>\n",
       "      <td>YE</td>\n",
       "      <td>YEM</td>\n",
       "      <td>887</td>\n",
       "      <td>.ye</td>\n",
       "    </tr>\n",
       "    <tr>\n",
       "      <th>269</th>\n",
       "      <td>Zambia</td>\n",
       "      <td>the Republic of Zambia</td>\n",
       "      <td>UN member</td>\n",
       "      <td>ZM</td>\n",
       "      <td>ZMB</td>\n",
       "      <td>894</td>\n",
       "      <td>.zm</td>\n",
       "    </tr>\n",
       "    <tr>\n",
       "      <th>270</th>\n",
       "      <td>Zimbabwe</td>\n",
       "      <td>the Republic of Zimbabwe</td>\n",
       "      <td>UN member</td>\n",
       "      <td>ZW</td>\n",
       "      <td>ZWE</td>\n",
       "      <td>716</td>\n",
       "      <td>.zw</td>\n",
       "    </tr>\n",
       "  </tbody>\n",
       "</table>\n",
       "</div>"
      ],
      "text/plain": [
       "                               ISO_name  \\\n",
       "261   Vatican City – See Holy See, The.   \n",
       "262  Venezuela (Bolivarian Republic of)   \n",
       "263                       Viet Nam [ak]   \n",
       "264       Virgin Islands (British) [al]   \n",
       "265          Virgin Islands (U.S.) [am]   \n",
       "266                   Wallis and Futuna   \n",
       "267                 Western Sahara [an]   \n",
       "268                               Yemen   \n",
       "269                              Zambia   \n",
       "270                            Zimbabwe   \n",
       "\n",
       "                                Official state name     Sovereignty   A-2  \\\n",
       "261                                            None            None  None   \n",
       "262            the Bolivarian Republic of Venezuela       UN member    VE   \n",
       "263              the Socialist Republic of Viet Nam       UN member    VN   \n",
       "264                              the Virgin Islands  United Kingdom    VG   \n",
       "265         the Virgin Islands of the United States   United States    VI   \n",
       "266  the Territory of the Wallis and Futuna Islands          France    WF   \n",
       "267            the Sahrawi Arab Democratic Republic   Disputed [ao]    EH   \n",
       "268                           the Republic of Yemen       UN member    YE   \n",
       "269                          the Republic of Zambia       UN member    ZM   \n",
       "270                        the Republic of Zimbabwe       UN member    ZW   \n",
       "\n",
       "      A-3   num   TLD  \n",
       "261  None  None  None  \n",
       "262   VEN   862   .ve  \n",
       "263   VNM   704   .vn  \n",
       "264   VGB   092   .vg  \n",
       "265   VIR   850   .vi  \n",
       "266   WLF   876   .wf  \n",
       "267   ESH   732  [ap]  \n",
       "268   YEM   887   .ye  \n",
       "269   ZMB   894   .zm  \n",
       "270   ZWE   716   .zw  "
      ]
     },
     "execution_count": 27,
     "metadata": {},
     "output_type": "execute_result"
    }
   ],
   "source": [
    "df_country_codes.tail(10)"
   ]
  },
  {
   "cell_type": "code",
   "execution_count": 28,
   "id": "9248dd1a",
   "metadata": {},
   "outputs": [],
   "source": [
    "df_country_codes.to_csv(\"country_codes.csv\")"
   ]
  }
 ],
 "metadata": {
  "kernelspec": {
   "display_name": "Python 3",
   "language": "python",
   "name": "python3"
  },
  "language_info": {
   "codemirror_mode": {
    "name": "ipython",
    "version": 3
   },
   "file_extension": ".py",
   "mimetype": "text/x-python",
   "name": "python",
   "nbconvert_exporter": "python",
   "pygments_lexer": "ipython3",
   "version": "3.10.6"
  }
 },
 "nbformat": 4,
 "nbformat_minor": 5
}
