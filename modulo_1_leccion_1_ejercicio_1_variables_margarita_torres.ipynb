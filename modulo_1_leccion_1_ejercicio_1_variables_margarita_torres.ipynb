{
 "cells": [
  {
   "cell_type": "markdown",
   "metadata": {},
   "source": [
    "1. Crea la variable `gatos` que sea un número con el valor `8`.\n",
    "\n",
    "2. Crea la variable `perros`  que sea un texto de seis caracteres: la palabra `cuatro`.\n",
    "\n",
    "3. Imprime la variable `gatos`.\n",
    "\n",
    "4. Imprime la variable `perros`.\n",
    "\n",
    "5. Imprime la variable `perros` seguida por la palabra `más` y la palabra `perros` otra vez.\n",
    "\n",
    "6. Consigue que el ordenador devuelva el siguiente texto, usando la variable `perros`: `cuatro más cuatro es igual a 8`.\n",
    "\n",
    "7. Consigue que el ordenador devuelva el siguiente texto, usando la variable`perros`: `cuatro + cuatro = 8`.\n",
    "\n",
    "8. Define una variable `pizzas` con un valor `2` que sea del tipo float.\n",
    "\n",
    "9. Define `magdalenas` con un valor `2` que sea del tipo string.\n",
    "\n",
    "10. Define `postres` con un valor `0` que sea del tipo int.\n"
   ]
  },
  {
   "cell_type": "code",
   "execution_count": 22,
   "metadata": {},
   "outputs": [
    {
     "name": "stdout",
     "output_type": "stream",
     "text": [
      "8\n",
      "cuatro\n",
      "cuatro más cuatro es igual a 8\n",
      "cuatro + cuatro = 8\n",
      "<class 'float'>\n",
      "True\n"
     ]
    }
   ],
   "source": [
    "gatos = 8\n",
    "print(gatos)\n",
    "perros = \"cuatro\"\n",
    "print (perros)\n",
    "print (perros, 'más', perros, 'es igual a', gatos)\n",
    "print (perros, '+', perros, '=', gatos)\n",
    "pizza = float(2)\n",
    "magdalenas= str(2)\n",
    "postres= int(0)\n",
    "print(type(pizza))\n",
    "print(isinstance(magdalenas,str))\n"
   ]
  },
  {
   "cell_type": "markdown",
   "metadata": {},
   "source": [
    "11. ¿Qué tipo de dato es la variable `pizzas`?\n",
    "  \n",
    "12. ¿Es la variable `magdalenas` de tipo string?\n",
    "\n",
    "13. Define `postres` con un valor `0`.\n",
    "\n",
    "14. Calcula la suma de `gatos` y `pizzas`.\n",
    "\n",
    "15. Calcula la diferencia entre `gatos` y `pizzas`.\n",
    "\n",
    "16. Multiplica las cantidad de gatos por 2.\n",
    "\n",
    "17. Crea una variable `piezas` que sea 8 veces la cantidad de `pizzas`.\n",
    "\n",
    "18. Haz que la cantidad de `piezas` se aumente en 3.\n",
    "\n",
    "19. Calcula el cuadrado de 9 y guárdalo en una variable llamada `superficie`."
   ]
  },
  {
   "cell_type": "code",
   "execution_count": 23,
   "metadata": {},
   "outputs": [
    {
     "name": "stdout",
     "output_type": "stream",
     "text": [
      "True\n"
     ]
    }
   ],
   "source": [
    "print(isinstance(magdalenas,str))\n"
   ]
  },
  {
   "cell_type": "code",
   "execution_count": 24,
   "metadata": {},
   "outputs": [
    {
     "name": "stdout",
     "output_type": "stream",
     "text": [
      "10.0\n",
      "16\n"
     ]
    }
   ],
   "source": [
    "postres=0\n",
    "print(gatos+pizza)\n",
    "print(gatos*2)"
   ]
  },
  {
   "cell_type": "code",
   "execution_count": 25,
   "metadata": {},
   "outputs": [
    {
     "name": "stdout",
     "output_type": "stream",
     "text": [
      "16.0\n"
     ]
    }
   ],
   "source": [
    "piezas= 8*pizza\n",
    "print(piezas)"
   ]
  },
  {
   "cell_type": "code",
   "execution_count": 26,
   "metadata": {},
   "outputs": [
    {
     "name": "stdout",
     "output_type": "stream",
     "text": [
      "19.0\n"
     ]
    }
   ],
   "source": [
    "print (piezas+3)"
   ]
  },
  {
   "cell_type": "code",
   "execution_count": 27,
   "metadata": {},
   "outputs": [
    {
     "name": "stdout",
     "output_type": "stream",
     "text": [
      "81\n"
     ]
    }
   ],
   "source": [
    "superficie=9**2\n",
    "print(superficie)"
   ]
  },
  {
   "cell_type": "markdown",
   "metadata": {},
   "source": [
    "20. ¿Cuantas superficies hay por gato?"
   ]
  },
  {
   "cell_type": "code",
   "execution_count": 28,
   "metadata": {},
   "outputs": [
    {
     "name": "stdout",
     "output_type": "stream",
     "text": [
      "10\n"
     ]
    }
   ],
   "source": [
    "print(superficie//gatos)"
   ]
  },
  {
   "cell_type": "markdown",
   "metadata": {},
   "source": [
    "21.¿cuantas piezas enteras hay por gato?"
   ]
  },
  {
   "cell_type": "code",
   "execution_count": 29,
   "metadata": {},
   "outputs": [
    {
     "name": "stdout",
     "output_type": "stream",
     "text": [
      "2.0\n"
     ]
    }
   ],
   "source": [
    "print(piezas//gatos)"
   ]
  },
  {
   "cell_type": "markdown",
   "metadata": {},
   "source": [
    "22. ¿cuantas piezas te quedan si cad agato se come 21? \n"
   ]
  },
  {
   "cell_type": "code",
   "execution_count": 30,
   "metadata": {},
   "outputs": [
    {
     "name": "stdout",
     "output_type": "stream",
     "text": [
      "0.0\n"
     ]
    }
   ],
   "source": [
    "print(piezas//(gatos+13))"
   ]
  },
  {
   "cell_type": "markdown",
   "metadata": {},
   "source": []
  },
  {
   "cell_type": "code",
   "execution_count": 31,
   "metadata": {},
   "outputs": [
    {
     "name": "stdout",
     "output_type": "stream",
     "text": [
      "81\n",
      "8\n"
     ]
    }
   ],
   "source": [
    "print(superficie)\n",
    "print(gatos)\n"
   ]
  },
  {
   "cell_type": "markdown",
   "metadata": {},
   "source": [
    "23. ¿Cuánta superficie hay por gato en metros cuadrados? Redondeala a un sólo decimal. Intenta calcularlo dentro del mismo `print()` en una sola línea."
   ]
  },
  {
   "cell_type": "code",
   "execution_count": 32,
   "metadata": {},
   "outputs": [
    {
     "name": "stdout",
     "output_type": "stream",
     "text": [
      "10.0 cm^2\n"
     ]
    }
   ],
   "source": [
    "print(round(float(superficie//gatos),1) , 'cm^2')\n",
    "\n",
    "#Revisar este ejercico.\n"
   ]
  },
  {
   "cell_type": "markdown",
   "metadata": {},
   "source": [
    "24. ¿Es verdad que hay más gatos que pizzas?"
   ]
  },
  {
   "cell_type": "code",
   "execution_count": 33,
   "metadata": {},
   "outputs": [
    {
     "name": "stdout",
     "output_type": "stream",
     "text": [
      "8\n",
      "2.0\n",
      "True\n"
     ]
    }
   ],
   "source": [
    "print(gatos)\n",
    "print(pizza)\n",
    "print(gatos>pizza)"
   ]
  },
  {
   "cell_type": "markdown",
   "metadata": {},
   "source": [
    "25. ¿Es verdad que hay menos gatos que superficie?"
   ]
  },
  {
   "cell_type": "code",
   "execution_count": 35,
   "metadata": {},
   "outputs": [
    {
     "name": "stdout",
     "output_type": "stream",
     "text": [
      "81\n",
      "True\n"
     ]
    }
   ],
   "source": [
    "print(superficie)\n",
    "print(gatos<superficie)"
   ]
  },
  {
   "cell_type": "markdown",
   "metadata": {},
   "source": [
    "26. ¿Es verdad que 2 veces la cantidad de pizzas es distinto de la cantidad de gatos?"
   ]
  },
  {
   "cell_type": "code",
   "execution_count": 44,
   "metadata": {},
   "outputs": [
    {
     "name": "stdout",
     "output_type": "stream",
     "text": [
      "La cantidad de pizzas es 2\n",
      "la cantidad de gatos 8\n",
      "True\n"
     ]
    }
   ],
   "source": [
    "print('La cantidad de pizzas es', int(pizza))\n",
    "print('la cantidad de gatos',gatos)\n",
    "print((pizza*2) != gatos)"
   ]
  },
  {
   "cell_type": "markdown",
   "metadata": {},
   "source": [
    "27. Es falso que 2 veces la cantidad de pizzas es iguak a la cantidad de gatos."
   ]
  },
  {
   "cell_type": "code",
   "execution_count": 37,
   "metadata": {},
   "outputs": [
    {
     "name": "stdout",
     "output_type": "stream",
     "text": [
      "True\n"
     ]
    }
   ],
   "source": [
    "print(((int(pizza)*2) is not gatos))\n",
    "    "
   ]
  },
  {
   "cell_type": "markdown",
   "metadata": {},
   "source": [
    "28. La variable `piezas`, es mayor o igual a `pizzas` y `superficie` es distinto de cero?"
   ]
  },
  {
   "cell_type": "code",
   "execution_count": 38,
   "metadata": {},
   "outputs": [
    {
     "name": "stdout",
     "output_type": "stream",
     "text": [
      "16.0\n",
      "2.0\n",
      "81\n",
      "True True\n"
     ]
    }
   ],
   "source": [
    "print(piezas)\n",
    "print(pizza)\n",
    "print(superficie)\n",
    "\n",
    "print(piezas >= pizza , superficie != 0)"
   ]
  },
  {
   "cell_type": "markdown",
   "metadata": {},
   "source": [
    "29. La variable `piezas`, es mayor o igual a `pizzas` y menor que `superficie`?"
   ]
  },
  {
   "cell_type": "code",
   "execution_count": 39,
   "metadata": {},
   "outputs": [
    {
     "name": "stdout",
     "output_type": "stream",
     "text": [
      "True True\n"
     ]
    }
   ],
   "source": [
    "print(piezas >= pizza , piezas < superficie)"
   ]
  },
  {
   "cell_type": "markdown",
   "metadata": {},
   "source": [
    "30. Me interesa saber si hay más pizzas que gatos, o si el residuo de piezas por gato es cero."
   ]
  },
  {
   "cell_type": "code",
   "execution_count": 49,
   "metadata": {},
   "outputs": [
    {
     "name": "stdout",
     "output_type": "stream",
     "text": [
      "2\n",
      "8\n",
      "16\n",
      "False True\n"
     ]
    }
   ],
   "source": [
    "print (int(pizza))\n",
    "print(gatos)\n",
    "print (int(piezas))\n",
    "print (pizza > gatos, (piezas % gatos) == 0)"
   ]
  },
  {
   "cell_type": "markdown",
   "metadata": {},
   "source": [
    "31. Comprueba las comparaciones de 29, en una sola linea, sin usar la variable piezas más de una sola vez. "
   ]
  },
  {
   "cell_type": "code",
   "execution_count": 51,
   "metadata": {},
   "outputs": [
    {
     "name": "stdout",
     "output_type": "stream",
     "text": [
      "True\n"
     ]
    }
   ],
   "source": [
    "# las comparaciones  de eje 29:\n",
    "#La variable `piezas`, es mayor o igual a `pizzas` y menor que `superficie`?\n",
    "print( pizza <= piezas < superficie)"
   ]
  },
  {
   "cell_type": "markdown",
   "metadata": {},
   "source": [
    "\n",
    "32. Comprueba si `superficie` es diferente a cero sin usar `!=`.\n"
   ]
  },
  {
   "cell_type": "code",
   "execution_count": 56,
   "metadata": {},
   "outputs": [
    {
     "name": "stdout",
     "output_type": "stream",
     "text": [
      "True\n"
     ]
    },
    {
     "name": "stderr",
     "output_type": "stream",
     "text": [
      "<>:1: SyntaxWarning: \"is not\" with a literal. Did you mean \"!=\"?\n",
      "<>:1: SyntaxWarning: \"is not\" with a literal. Did you mean \"!=\"?\n",
      "C:\\Users\\marg_\\AppData\\Local\\Temp\\ipykernel_9716\\3342259729.py:1: SyntaxWarning: \"is not\" with a literal. Did you mean \"!=\"?\n",
      "  print(superficie is not 0)\n"
     ]
    }
   ],
   "source": [
    "print(superficie is not 0)"
   ]
  },
  {
   "cell_type": "markdown",
   "metadata": {},
   "source": [
    "33. Usa `input()` para preguntar a un usuario el día de su cumpleaños y guarda la respuesta en la variable dia_cumple.\n",
    "34. Usa `input()` para preguntar a un usuario el mes de su cumpleaños y guarda la respuesta en la variable mes_cumple.\n",
    "35. Usa `.strip()` en ambas de las variables definidas.\n",
    "\n",
    "36. Haz que `fecha_cumple` sea un *string* compuesto por el día y el mes."
   ]
  },
  {
   "cell_type": "code",
   "execution_count": 62,
   "metadata": {},
   "outputs": [
    {
     "name": "stdout",
     "output_type": "stream",
     "text": [
      "el dia de mi cumple es el 12 el mes de mi cumple es el 12\n",
      "el dia de mi cumple es el 12\n",
      "el mes de mi cumple es el 12\n",
      "tu dia de cumpleaños es 12/12\n"
     ]
    }
   ],
   "source": [
    "dia_cumple=str( input('¿día de cumpleaños'))\n",
    "mes_cumple= str (input('mes de tu cumpleaños'))\n",
    "print( dia_cumple,mes_cumple)\n",
    "#quitamos todos los espacios que haya al principio y final de las string\n",
    "print(dia_cumple.strip())\n",
    "print(mes_cumple.strip())\n",
    "\n",
    "\n",
    "dia_cumple= input ('¿cuándo es tu cumpleaños')\n",
    "print( 'tu dia de cumpleaños es', str(dia_cumple))"
   ]
  },
  {
   "cell_type": "code",
   "execution_count": 63,
   "metadata": {},
   "outputs": [
    {
     "name": "stdout",
     "output_type": "stream",
     "text": [
      "['El', 'dia', 'de', 'mi', 'cumpleaños', 'es', 'el', 'doce', 'de', 'diciembre']\n"
     ]
    }
   ],
   "source": [
    "#practicamos otras funciones  de las variables \n",
    "\n",
    "dia_cumple_respuesta= ' El dia de mi cumpleaños es el doce de diciembre'\n",
    "diacumple_separado= dia_cumple_respuesta.split()\n",
    "print(diacumple_separado)"
   ]
  },
  {
   "cell_type": "code",
   "execution_count": 69,
   "metadata": {},
   "outputs": [
    {
     "name": "stdout",
     "output_type": "stream",
     "text": [
      "<class 'list'>\n",
      "Este finde de semana\n",
      "estaré estudiando todo el día\n",
      "Este finde de semana\n",
      "estaré estudiando un par de horitas, hay que descansar\n"
     ]
    }
   ],
   "source": [
    "print(type(diacumple_separado))\n",
    "#Hemos obtenido una lista a partir de un string\n",
    "\n",
    "parrafo= \"Este finde de semana\\nestaré estudiando todo el día\"\n",
    "print(parrafo)\n",
    "\n",
    "#usamos \\n para separar parrafos, no hace falta espacios.\n",
    "\n",
    "parrafo_mod= parrafo.replace('todo el día', 'un par de horitas, hay que descansar')\n",
    "print (parrafo_mod)\n",
    "\n",
    "# Hemos sustituido un par de fraces. \n",
    "\n"
   ]
  },
  {
   "cell_type": "code",
   "execution_count": 72,
   "metadata": {},
   "outputs": [
    {
     "name": "stdout",
     "output_type": "stream",
     "text": [
      "El dia de mi cumpleaños es el doce de diciembre\n",
      "El_dia_de_mi_cumpleaños_es_el_doce_de_diciembre\n"
     ]
    }
   ],
   "source": [
    "#unimos la lista que obtuvimos en dia de cumpleaños\n",
    "dia_de_cumple_unido= ' '.join(diacumple_separado)\n",
    "print(dia_de_cumple_unido )\n",
    "carpeta_cumple= '_'.join(diacumple_separado)\n",
    "print(carpeta_cumple)"
   ]
  },
  {
   "cell_type": "code",
   "execution_count": 74,
   "metadata": {},
   "outputs": [
    {
     "data": {
      "text/plain": [
       "-1"
      ]
     },
     "execution_count": 74,
     "metadata": {},
     "output_type": "execute_result"
    }
   ],
   "source": [
    "parrafo.find( 'x', 1, 30)\n"
   ]
  },
  {
   "cell_type": "markdown",
   "metadata": {},
   "source": [
    "38. Imprime la variable perros en todas mayúsculas."
   ]
  },
  {
   "cell_type": "code",
   "execution_count": 87,
   "metadata": {},
   "outputs": [
    {
     "name": "stdout",
     "output_type": "stream",
     "text": [
      "CUATRO\n",
      "cuatro\n",
      "Este finde de semana\n",
      "estaré estudiando un par de horitas, hay que descansar\n",
      "Este finde de semana\n",
      "estaré estudiando un par de horitas, hay que descansar\n",
      "Cuatro\n",
      "Este Finde De Semana\n",
      "Estaré Estudiando Un Par De Horitas, Hay Que Descansar\n",
      "ESTE FINDE DE SEMANA\n",
      "ESTARÉ ESTUDIANDO UN PAR DE HORITAS, HAY QUE DESCANSAR\n",
      "eSTE FINDE DE SEMANA\n",
      "ESTARÉ ESTUDIANDO UN PAR DE HORITAS, HAY QUE DESCANSAR\n",
      "6\n"
     ]
    }
   ],
   "source": [
    "print(perros.upper())\n",
    "print(perros.lower())\n",
    "print( parrafo_mod)\n",
    "print(parrafo_mod.capitalize())\n",
    "print(perros.capitalize())\n",
    "print(parrafo_mod.title())\n",
    "print(parrafo_mod.upper())\n",
    "print(parrafo_mod.swapcase())\n",
    "\n",
    "#Puedo saber cuantos caracteres tiene una string? para usar el método find\n",
    "print(len(perros))"
   ]
  }
 ],
 "metadata": {
  "kernelspec": {
   "display_name": "base",
   "language": "python",
   "name": "python3"
  },
  "language_info": {
   "codemirror_mode": {
    "name": "ipython",
    "version": 3
   },
   "file_extension": ".py",
   "mimetype": "text/x-python",
   "name": "python",
   "nbconvert_exporter": "python",
   "pygments_lexer": "ipython3",
   "version": "3.11.7"
  }
 },
 "nbformat": 4,
 "nbformat_minor": 2
}
