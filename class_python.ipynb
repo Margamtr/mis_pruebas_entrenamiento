{
 "cells": [
  {
   "cell_type": "markdown",
   "metadata": {},
   "source": [
    "## Practices for creating classes in python"
   ]
  },
  {
   "cell_type": "markdown",
   "metadata": {},
   "source": [
    "### Introducion:\n",
    "Basic introducion example. "
   ]
  },
  {
   "cell_type": "code",
   "execution_count": 1,
   "metadata": {},
   "outputs": [],
   "source": [
    "class Pet: # create the class\n",
    "    #inizialites attributes. Constructor:\n",
    "    def __init__(self, animal, age, breeds):\n",
    "        #attributes:\n",
    "        self.animal=animal\n",
    "        self.age=age\n",
    "        self.breeds=breeds\n",
    "        self.home='adress'\n",
    "    #Create methods \n",
    "    def birthday(self):\n",
    "        self.age+=1\n",
    "        return f'The pet is {self.age} years old' \n",
    "    def range_age(self):\n",
    "        if self.age <2:\n",
    "            return 'junior'\n",
    "        elif self.age > 10:\n",
    "            return 'Senior'\n",
    "        else: \n",
    "            return 'Adult'\n",
    "    def vaccine(self, number_vaccine):\n",
    "\n",
    "        self.number_vaccine=number_vaccine\n",
    "\n",
    "        if self.animal == 'cat':\n",
    "            if number_vaccine <3: \n",
    "                return 'Your cat needs more than 3 vaccines'\n",
    "            else :\n",
    "                return 'Your cat is safe'\n",
    "        elif self.animal == 'dog':\n",
    "            if  number_vaccine < 5:\n",
    "                return 'Your dog needs more than 3 vaccines'\n",
    "            else:\n",
    "                return 'YOur dog is safe'\n",
    "        elif self.animal =='fish':\n",
    "            return 'Your pet do not need vaccines'\n",
    "\n",
    "        else: \n",
    "            return 'We do not Know how many vaccinecion your dog need'\n"
   ]
  },
  {
   "cell_type": "code",
   "execution_count": 2,
   "metadata": {},
   "outputs": [],
   "source": [
    "felix= Pet('cat',1, 'common cat')"
   ]
  },
  {
   "cell_type": "code",
   "execution_count": 3,
   "metadata": {},
   "outputs": [
    {
     "data": {
      "text/plain": [
       "'cat'"
      ]
     },
     "execution_count": 3,
     "metadata": {},
     "output_type": "execute_result"
    }
   ],
   "source": [
    "felix.animal"
   ]
  },
  {
   "cell_type": "code",
   "execution_count": 4,
   "metadata": {},
   "outputs": [
    {
     "data": {
      "text/plain": [
       "1"
      ]
     },
     "execution_count": 4,
     "metadata": {},
     "output_type": "execute_result"
    }
   ],
   "source": [
    "felix.age"
   ]
  },
  {
   "cell_type": "code",
   "execution_count": 5,
   "metadata": {},
   "outputs": [
    {
     "data": {
      "text/plain": [
       "'The pet is 2 years old'"
      ]
     },
     "execution_count": 5,
     "metadata": {},
     "output_type": "execute_result"
    }
   ],
   "source": [
    "felix.birthday()"
   ]
  }
 ],
 "metadata": {
  "kernelspec": {
   "display_name": "base",
   "language": "python",
   "name": "python3"
  },
  "language_info": {
   "codemirror_mode": {
    "name": "ipython",
    "version": 3
   },
   "file_extension": ".py",
   "mimetype": "text/x-python",
   "name": "python",
   "nbconvert_exporter": "python",
   "pygments_lexer": "ipython3",
   "version": "3.11.7"
  }
 },
 "nbformat": 4,
 "nbformat_minor": 2
}
